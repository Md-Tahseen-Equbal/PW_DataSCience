{
 "cells": [
  {
   "cell_type": "code",
   "execution_count": 1,
   "id": "76c32b50-1f94-4252-a1c0-d204cee48a2f",
   "metadata": {},
   "outputs": [
    {
     "name": "stdout",
     "output_type": "stream",
     "text": [
      "1\n",
      "2\n",
      "3\n",
      "4\n",
      "5\n",
      "6\n",
      "7\n",
      "8\n",
      "9\n",
      "10\n"
     ]
    }
   ],
   "source": [
    "a =1\n",
    "while a <= 10 :\n",
    "    print(a)\n",
    "    a =a + 1"
   ]
  },
  {
   "cell_type": "code",
   "execution_count": 2,
   "id": "472cf5d5-937f-44dc-8bc8-e9c79c4b3ec7",
   "metadata": {},
   "outputs": [],
   "source": [
    "# sum up the number till some point"
   ]
  },
  {
   "cell_type": "code",
   "execution_count": 3,
   "id": "759241e1-ce50-4c12-9281-a5e2a6123b68",
   "metadata": {},
   "outputs": [
    {
     "name": "stdin",
     "output_type": "stream",
     "text": [
      "Enter Your limit 5\n"
     ]
    },
    {
     "data": {
      "text/plain": [
       "15"
      ]
     },
     "execution_count": 3,
     "metadata": {},
     "output_type": "execute_result"
    }
   ],
   "source": [
    "n = int(input(\"Enter Your limit\"))\n",
    "starting_point = 0\n",
    "counter =1\n",
    "while counter <= n:\n",
    "    starting_point = starting_point + counter\n",
    "    counter = counter +1\n",
    "starting_point"
   ]
  },
  {
   "cell_type": "code",
   "execution_count": 4,
   "id": "1ca7d29a-c69e-4da7-9503-e41fca28430e",
   "metadata": {},
   "outputs": [
    {
     "name": "stdin",
     "output_type": "stream",
     "text": [
      "Enter Your Number 3\n"
     ]
    },
    {
     "data": {
      "text/plain": [
       "6"
      ]
     },
     "execution_count": 4,
     "metadata": {},
     "output_type": "execute_result"
    }
   ],
   "source": [
    "number = int(input(\"Enter Your Number\"))\n",
    "factorial =1\n",
    "while number > 0 :\n",
    "    factorial = factorial*number\n",
    "    number = number-1\n",
    "factorial"
   ]
  },
  {
   "cell_type": "code",
   "execution_count": 5,
   "id": "76bb075f-a669-4dfd-9964-a089e2fc7eb7",
   "metadata": {},
   "outputs": [],
   "source": [
    "# Finonacci series"
   ]
  },
  {
   "cell_type": "code",
   "execution_count": 6,
   "id": "bd4f7784-1835-4daf-aa3c-4a22746ed7cb",
   "metadata": {},
   "outputs": [
    {
     "name": "stdin",
     "output_type": "stream",
     "text": [
      "Enter your number 10\n"
     ]
    },
    {
     "name": "stdout",
     "output_type": "stream",
     "text": [
      "0\n",
      "1\n",
      "1\n",
      "2\n",
      "3\n",
      "5\n",
      "8\n",
      "13\n",
      "21\n",
      "34\n"
     ]
    }
   ],
   "source": [
    "number = int(input(\"Enter your number\"))\n",
    "a , b = 0 ,1\n",
    "counter = 0 \n",
    "while counter < number :\n",
    "    print(a)\n",
    "    c = a+b\n",
    "    a= b\n",
    "    b =c\n",
    "    counter = counter+1\n",
    "             "
   ]
  },
  {
   "cell_type": "code",
   "execution_count": 7,
   "id": "c2bf381c-de49-4ad6-80fb-748340054457",
   "metadata": {},
   "outputs": [
    {
     "name": "stdout",
     "output_type": "stream",
     "text": [
      "0\n",
      "1\n",
      "1\n",
      "2\n",
      "3\n",
      "5\n",
      "8\n",
      "13\n",
      "21\n",
      "34\n"
     ]
    }
   ],
   "source": [
    "a,b=0,1\n",
    "for i in range(10):\n",
    "    print(a)\n",
    "    c = a+b\n",
    "    a = b\n",
    "    b = c\n",
    "    \n"
   ]
  },
  {
   "cell_type": "code",
   "execution_count": 8,
   "id": "d2fbbda2-df60-4ddc-b96a-ca5e0f306b33",
   "metadata": {},
   "outputs": [],
   "source": [
    "s= \"sudh\""
   ]
  },
  {
   "cell_type": "code",
   "execution_count": 9,
   "id": "541bdac1-ae51-4c84-86cf-8e8b04dddce1",
   "metadata": {},
   "outputs": [
    {
     "data": {
      "text/plain": [
       "'hdus'"
      ]
     },
     "execution_count": 9,
     "metadata": {},
     "output_type": "execute_result"
    }
   ],
   "source": [
    "s[::-1]"
   ]
  },
  {
   "cell_type": "code",
   "execution_count": null,
   "id": "3f06fd5d-04e9-40ef-851f-8e7a9e43dc2f",
   "metadata": {},
   "outputs": [],
   "source": [
    "word=input(\"Enter your word\")"
   ]
  },
  {
   "cell_type": "code",
   "execution_count": null,
   "id": "fc011b93-c0fa-4b24-91bf-47f7676528dd",
   "metadata": {},
   "outputs": [],
   "source": [
    "reverse = \"\"\n",
    "length = len(word)\n",
    "while length > 0 :\n",
    "    reverse = reverse + word[length -1]\n",
    "    length = length -1\n",
    "print(reverse)"
   ]
  },
  {
   "cell_type": "code",
   "execution_count": null,
   "id": "8aa58b91-5e1f-410b-9987-896295f4d286",
   "metadata": {},
   "outputs": [],
   "source": [
    "#Print the number of Tables "
   ]
  },
  {
   "cell_type": "code",
   "execution_count": null,
   "id": "03a450b1-53f1-43bf-bc18-712ed5b96ddd",
   "metadata": {},
   "outputs": [],
   "source": [
    "n = int (input(\" Enter Your Number\"))\n",
    "i = 1\n",
    "while i<= 10 :\n",
    "    result = n*i\n",
    "    print(n,\"*\",i,\"=\",result)\n",
    "    i = i*1"
   ]
  },
  {
   "cell_type": "code",
   "execution_count": null,
   "id": "bf8c0a73-9b07-4e8a-b7f3-aee064ec3622",
   "metadata": {},
   "outputs": [],
   "source": [
    "n = 5\n",
    "i = 1\n",
    "while i<n:\n",
    "    print(i)\n",
    "    if ==3:\n",
    "        break\n",
    "    i = i*1\n",
    "else :\n",
    "    print(\"This will be executed once your While will complete execute it scuccesfully\")"
   ]
  },
  {
   "cell_type": "code",
   "execution_count": null,
   "id": "7b78e523-39a4-4afe-a7a0-0da6129b7f9d",
   "metadata": {},
   "outputs": [],
   "source": []
  },
  {
   "cell_type": "code",
   "execution_count": null,
   "id": "53192dde-1d07-4ee5-87b4-58897872b097",
   "metadata": {},
   "outputs": [],
   "source": []
  }
 ],
 "metadata": {
  "kernelspec": {
   "display_name": "Python 3 (ipykernel)",
   "language": "python",
   "name": "python3"
  },
  "language_info": {
   "codemirror_mode": {
    "name": "ipython",
    "version": 3
   },
   "file_extension": ".py",
   "mimetype": "text/x-python",
   "name": "python",
   "nbconvert_exporter": "python",
   "pygments_lexer": "ipython3",
   "version": "3.10.8"
  }
 },
 "nbformat": 4,
 "nbformat_minor": 5
}

{
 "cells": [
  {
   "cell_type": "markdown",
   "id": "afe38cc0-a2bb-475d-8092-3aa2be185d68",
   "metadata": {},
   "source": [
    "LIST Comprehension"
   ]
  },
  {
   "cell_type": "code",
   "execution_count": 9,
   "id": "64b4615a-b1ce-4722-ab24-82b897bf1137",
   "metadata": {},
   "outputs": [],
   "source": [
    "l = [ 1,3,4,55,33,6,22]\n",
    "l1 =[]\n",
    "for i in l:\n",
    "    l1.append(i**2)"
   ]
  },
  {
   "cell_type": "code",
   "execution_count": 10,
   "id": "69f1cd5d-f91a-49fa-839e-a3d27d2154c2",
   "metadata": {},
   "outputs": [
    {
     "data": {
      "text/plain": [
       "[1, 9, 16, 3025, 1089, 36, 484]"
      ]
     },
     "execution_count": 10,
     "metadata": {},
     "output_type": "execute_result"
    }
   ],
   "source": [
    "l1"
   ]
  },
  {
   "cell_type": "code",
   "execution_count": 11,
   "id": "dd2d41d8-4f89-49d9-b61f-dd4cd527d79c",
   "metadata": {},
   "outputs": [
    {
     "data": {
      "text/plain": [
       "[1, 9, 16, 3025, 1089, 36, 484]"
      ]
     },
     "execution_count": 11,
     "metadata": {},
     "output_type": "execute_result"
    }
   ],
   "source": [
    "[i**2 for i in l ]"
   ]
  },
  {
   "cell_type": "code",
   "execution_count": 12,
   "id": "f853ccca-05f0-4980-babd-716baccf05be",
   "metadata": {},
   "outputs": [
    {
     "data": {
      "text/plain": [
       "[4, 6, 22]"
      ]
     },
     "execution_count": 12,
     "metadata": {},
     "output_type": "execute_result"
    }
   ],
   "source": [
    "[i for i in l if i % 2 == 0]"
   ]
  },
  {
   "cell_type": "code",
   "execution_count": 13,
   "id": "c42d60e2-0cff-4ddb-a11f-471027ad8ecc",
   "metadata": {},
   "outputs": [],
   "source": [
    "l1 =[\"Tahseen\",\"equbal\",\"aneeque\",\"pwskill\"]"
   ]
  },
  {
   "cell_type": "code",
   "execution_count": 14,
   "id": "50d14420-9bd4-4e8d-8ee7-7af0384612aa",
   "metadata": {},
   "outputs": [
    {
     "data": {
      "text/plain": [
       "['TAHSEEN', 'EQUBAL', 'ANEEQUE', 'PWSKILL']"
      ]
     },
     "execution_count": 14,
     "metadata": {},
     "output_type": "execute_result"
    }
   ],
   "source": [
    "[i.upper()for i in l1]"
   ]
  },
  {
   "cell_type": "markdown",
   "id": "75449eb2-b894-40fb-9482-082e85e374e7",
   "metadata": {},
   "source": [
    "DICTONARY COMPRESHENION"
   ]
  },
  {
   "cell_type": "code",
   "execution_count": 17,
   "id": "2c6c8b59-79e5-4d68-9b41-7b1582e373c4",
   "metadata": {},
   "outputs": [],
   "source": [
    "d = {\"key1\" : 1 ,\"key2\": 2 ,\"key3\" : 3, \"key4\": 4}"
   ]
  },
  {
   "cell_type": "code",
   "execution_count": 19,
   "id": "577cbb26-1ce2-4623-b7fb-79cde9485aa5",
   "metadata": {},
   "outputs": [
    {
     "data": {
      "text/plain": [
       "{'key1': 1, 'key2': 4, 'key3': 9, 'key4': 16}"
      ]
     },
     "execution_count": 19,
     "metadata": {},
     "output_type": "execute_result"
    }
   ],
   "source": [
    "{k:v**2 for k ,v in d .items()}"
   ]
  },
  {
   "cell_type": "code",
   "execution_count": 20,
   "id": "42e05fed-2d7b-4cb9-ab87-31132d8e22b8",
   "metadata": {},
   "outputs": [
    {
     "data": {
      "text/plain": [
       "{'key1': 1, 'key2': 2, 'key3': 3, 'key4': 4}"
      ]
     },
     "execution_count": 20,
     "metadata": {},
     "output_type": "execute_result"
    }
   ],
   "source": [
    "d"
   ]
  },
  {
   "cell_type": "code",
   "execution_count": 21,
   "id": "bc4a0ed7-5084-4b43-8c10-f8a71180fe2a",
   "metadata": {},
   "outputs": [
    {
     "data": {
      "text/plain": [
       "{'key2': 2, 'key3': 3, 'key4': 4}"
      ]
     },
     "execution_count": 21,
     "metadata": {},
     "output_type": "execute_result"
    }
   ],
   "source": [
    "{k: v for k,v in d.items() if v > 1}"
   ]
  },
  {
   "cell_type": "code",
   "execution_count": null,
   "id": "d21e4aef-9efb-4878-b368-cc7bc7052b2a",
   "metadata": {},
   "outputs": [],
   "source": []
  },
  {
   "cell_type": "code",
   "execution_count": null,
   "id": "722870d8-ac84-44b3-88dd-a46a9bf405b0",
   "metadata": {},
   "outputs": [],
   "source": []
  }
 ],
 "metadata": {
  "kernelspec": {
   "display_name": "Python 3 (ipykernel)",
   "language": "python",
   "name": "python3"
  },
  "language_info": {
   "codemirror_mode": {
    "name": "ipython",
    "version": 3
   },
   "file_extension": ".py",
   "mimetype": "text/x-python",
   "name": "python",
   "nbconvert_exporter": "python",
   "pygments_lexer": "ipython3",
   "version": "3.10.8"
  }
 },
 "nbformat": 4,
 "nbformat_minor": 5
}

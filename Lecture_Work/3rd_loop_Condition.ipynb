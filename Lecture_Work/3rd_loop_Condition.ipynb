{
 "cells": [
  {
   "cell_type": "markdown",
   "id": "98195e6b-34a1-45f4-8a67-8d395ae3c167",
   "metadata": {},
   "source": [
    "Dictonary"
   ]
  },
  {
   "cell_type": "code",
   "execution_count": 1,
   "id": "2d34c4e9-b107-4ad3-a8a0-d096fbf4d831",
   "metadata": {},
   "outputs": [],
   "source": [
    "d = {}"
   ]
  },
  {
   "cell_type": "code",
   "execution_count": 2,
   "id": "673e6178-fd74-4ec7-bb48-b4f7edb0e743",
   "metadata": {},
   "outputs": [
    {
     "data": {
      "text/plain": [
       "dict"
      ]
     },
     "execution_count": 2,
     "metadata": {},
     "output_type": "execute_result"
    }
   ],
   "source": [
    "type(d)\n"
   ]
  },
  {
   "cell_type": "code",
   "execution_count": 3,
   "id": "983028c5-d6f5-45c8-a9e8-4789db6d0297",
   "metadata": {},
   "outputs": [],
   "source": [
    "d1 ={'Key' : 'Tahse'}"
   ]
  },
  {
   "cell_type": "code",
   "execution_count": 4,
   "id": "305f5289-fe5f-4e70-b179-037f27cc433f",
   "metadata": {},
   "outputs": [
    {
     "data": {
      "text/plain": [
       "{'Key': 'Tahse'}"
      ]
     },
     "execution_count": 4,
     "metadata": {},
     "output_type": "execute_result"
    }
   ],
   "source": [
    "d1"
   ]
  },
  {
   "cell_type": "code",
   "execution_count": 5,
   "id": "cc2cc518-f8fe-487f-9631-3881ee4b633b",
   "metadata": {},
   "outputs": [],
   "source": [
    "d2 = {'Name' : \"Tahseen\" , \"Email\" : \"mdtahseen278@gmail.com\",\"Number\" : 7717775081}"
   ]
  },
  {
   "cell_type": "code",
   "execution_count": 6,
   "id": "bcb887af-3c5e-4a58-a618-db124c09f845",
   "metadata": {},
   "outputs": [
    {
     "data": {
      "text/plain": [
       "{'Name': 'Tahseen', 'Email': 'mdtahseen278@gmail.com', 'Number': 7717775081}"
      ]
     },
     "execution_count": 6,
     "metadata": {},
     "output_type": "execute_result"
    }
   ],
   "source": [
    "d2"
   ]
  },
  {
   "cell_type": "code",
   "execution_count": 7,
   "id": "6752bae8-f29d-477c-ad58-59d14b5b0f90",
   "metadata": {},
   "outputs": [],
   "source": [
    "d3 = { 234 : \"sudh\",'wer' : 'Kumar', True : 334534}"
   ]
  },
  {
   "cell_type": "code",
   "execution_count": 8,
   "id": "77dd1d80-e4f2-4f2c-ab9e-7f444db81cc2",
   "metadata": {},
   "outputs": [
    {
     "data": {
      "text/plain": [
       "{234: 'sudh', 'wer': 'Kumar', True: 334534}"
      ]
     },
     "execution_count": 8,
     "metadata": {},
     "output_type": "execute_result"
    }
   ],
   "source": [
    "d3"
   ]
  },
  {
   "cell_type": "code",
   "execution_count": 9,
   "id": "d4b0011d-2ccd-47de-ab95-142ec7847e0c",
   "metadata": {},
   "outputs": [
    {
     "data": {
      "text/plain": [
       "'sudh'"
      ]
     },
     "execution_count": 9,
     "metadata": {},
     "output_type": "execute_result"
    }
   ],
   "source": [
    "d3[234]"
   ]
  },
  {
   "cell_type": "code",
   "execution_count": 10,
   "id": "1cd75327-db72-48c1-b9b7-9e5986d37486",
   "metadata": {},
   "outputs": [
    {
     "data": {
      "text/plain": [
       "334534"
      ]
     },
     "execution_count": 10,
     "metadata": {},
     "output_type": "execute_result"
    }
   ],
   "source": [
    "d3[1]"
   ]
  },
  {
   "cell_type": "code",
   "execution_count": 11,
   "id": "05058d52-eaee-4a3e-941c-98478823fbc7",
   "metadata": {},
   "outputs": [],
   "source": [
    "d4 = {'name' : \"sudh\" , \"mail_id\" : \"ss@gmail.com\" , \"name\" : \"Sudhansu\"}"
   ]
  },
  {
   "cell_type": "code",
   "execution_count": 12,
   "id": "3aa93ef2-fd8a-4bfe-ad87-392d01ecab97",
   "metadata": {},
   "outputs": [
    {
     "data": {
      "text/plain": [
       "'Sudhansu'"
      ]
     },
     "execution_count": 12,
     "metadata": {},
     "output_type": "execute_result"
    }
   ],
   "source": [
    "d4['name']"
   ]
  },
  {
   "cell_type": "code",
   "execution_count": 13,
   "id": "d6df4220-ae8b-487d-a61f-fa0e807fa0d9",
   "metadata": {},
   "outputs": [],
   "source": [
    "d5 = {\"Company\" : \"Pwskills\" , \"Course\" : [ \"Web dev\" , \"Data Science\" , \"Java with system design\"]}"
   ]
  },
  {
   "cell_type": "code",
   "execution_count": 14,
   "id": "cc691990-9b72-40e5-9b99-49ca9e2ce92b",
   "metadata": {},
   "outputs": [
    {
     "data": {
      "text/plain": [
       "{'Company': 'Pwskills',\n",
       " 'Course': ['Web dev', 'Data Science', 'Java with system design']}"
      ]
     },
     "execution_count": 14,
     "metadata": {},
     "output_type": "execute_result"
    }
   ],
   "source": [
    "d5"
   ]
  },
  {
   "cell_type": "code",
   "execution_count": 15,
   "id": "64ffcde2-ee8e-4726-99de-eaafda3f7d8b",
   "metadata": {},
   "outputs": [
    {
     "data": {
      "text/plain": [
       "['Web dev', 'Data Science', 'Java with system design']"
      ]
     },
     "execution_count": 15,
     "metadata": {},
     "output_type": "execute_result"
    }
   ],
   "source": [
    "d5['Course']"
   ]
  },
  {
   "cell_type": "code",
   "execution_count": 16,
   "id": "a66527c2-517b-48ac-aa81-711202032fa2",
   "metadata": {},
   "outputs": [
    {
     "data": {
      "text/plain": [
       "'Java with system design'"
      ]
     },
     "execution_count": 16,
     "metadata": {},
     "output_type": "execute_result"
    }
   ],
   "source": [
    "d5['Course'][2]"
   ]
  },
  {
   "cell_type": "code",
   "execution_count": 17,
   "id": "d317b389-afcc-475f-89f9-2c5759b469d0",
   "metadata": {},
   "outputs": [],
   "source": [
    "d6 = {\"number\" : [2,34,3,34,34] , \"assingment\" : (1,2,3,4,5,6),\"Launch Date\":{28,12,14}, \"class Timing\" : {\"web_dev\" : 8,\"data Science\" : 7} }"
   ]
  },
  {
   "cell_type": "code",
   "execution_count": 18,
   "id": "7f929769-0070-4f5a-b97d-3b3b1670df38",
   "metadata": {},
   "outputs": [
    {
     "data": {
      "text/plain": [
       "{'number': [2, 34, 3, 34, 34],\n",
       " 'assingment': (1, 2, 3, 4, 5, 6),\n",
       " 'Launch Date': {12, 14, 28},\n",
       " 'class Timing': {'web_dev': 8, 'data Science': 7}}"
      ]
     },
     "execution_count": 18,
     "metadata": {},
     "output_type": "execute_result"
    }
   ],
   "source": [
    "d6"
   ]
  },
  {
   "cell_type": "code",
   "execution_count": 19,
   "id": "383a67a8-ffbd-46df-9441-8ce7105408f4",
   "metadata": {},
   "outputs": [
    {
     "data": {
      "text/plain": [
       "7"
      ]
     },
     "execution_count": 19,
     "metadata": {},
     "output_type": "execute_result"
    }
   ],
   "source": [
    "d6['class Timing']['data Science']\n",
    "   "
   ]
  },
  {
   "cell_type": "code",
   "execution_count": 20,
   "id": "ba569f7d-bbb9-4f72-8bd0-0e2ef3692bb1",
   "metadata": {},
   "outputs": [],
   "source": [
    "d6['mentor'] = [\"Sudhanshu\", \"krish\", \"Anurag\" , \"Hayder\"]"
   ]
  },
  {
   "cell_type": "code",
   "execution_count": 21,
   "id": "1491ed46-1efd-4bae-a36b-6641d742444b",
   "metadata": {},
   "outputs": [
    {
     "data": {
      "text/plain": [
       "{'number': [2, 34, 3, 34, 34],\n",
       " 'assingment': (1, 2, 3, 4, 5, 6),\n",
       " 'Launch Date': {12, 14, 28},\n",
       " 'class Timing': {'web_dev': 8, 'data Science': 7},\n",
       " 'mentor': ['Sudhanshu', 'krish', 'Anurag', 'Hayder']}"
      ]
     },
     "execution_count": 21,
     "metadata": {},
     "output_type": "execute_result"
    }
   ],
   "source": [
    "d6"
   ]
  },
  {
   "cell_type": "code",
   "execution_count": 22,
   "id": "a9a23de0-d842-4814-a091-15e6695abd37",
   "metadata": {},
   "outputs": [],
   "source": [
    "del d6['number']"
   ]
  },
  {
   "cell_type": "code",
   "execution_count": 23,
   "id": "0018bc4e-ee5d-4cb4-aa68-58d8be7e4c25",
   "metadata": {},
   "outputs": [
    {
     "data": {
      "text/plain": [
       "{'assingment': (1, 2, 3, 4, 5, 6),\n",
       " 'Launch Date': {12, 14, 28},\n",
       " 'class Timing': {'web_dev': 8, 'data Science': 7},\n",
       " 'mentor': ['Sudhanshu', 'krish', 'Anurag', 'Hayder']}"
      ]
     },
     "execution_count": 23,
     "metadata": {},
     "output_type": "execute_result"
    }
   ],
   "source": [
    "d6"
   ]
  },
  {
   "cell_type": "code",
   "execution_count": 24,
   "id": "f882a4d9-22f6-481a-a57f-7ca77dfe59ac",
   "metadata": {},
   "outputs": [
    {
     "data": {
      "text/plain": [
       "dict_keys(['assingment', 'Launch Date', 'class Timing', 'mentor'])"
      ]
     },
     "execution_count": 24,
     "metadata": {},
     "output_type": "execute_result"
    }
   ],
   "source": [
    "d6.keys()"
   ]
  },
  {
   "cell_type": "code",
   "execution_count": 25,
   "id": "9a7e5217-a4e5-443c-9726-2a968cdc9ef3",
   "metadata": {},
   "outputs": [
    {
     "data": {
      "text/plain": [
       "dict_values([(1, 2, 3, 4, 5, 6), {28, 12, 14}, {'web_dev': 8, 'data Science': 7}, ['Sudhanshu', 'krish', 'Anurag', 'Hayder']])"
      ]
     },
     "execution_count": 25,
     "metadata": {},
     "output_type": "execute_result"
    }
   ],
   "source": [
    "d6.values()"
   ]
  },
  {
   "cell_type": "code",
   "execution_count": 26,
   "id": "d023eb66-7e1f-4645-99ed-7ae4d3e014c3",
   "metadata": {},
   "outputs": [
    {
     "data": {
      "text/plain": [
       "[(1, 2, 3, 4, 5, 6),\n",
       " {12, 14, 28},\n",
       " {'web_dev': 8, 'data Science': 7},\n",
       " ['Sudhanshu', 'krish', 'Anurag', 'Hayder']]"
      ]
     },
     "execution_count": 26,
     "metadata": {},
     "output_type": "execute_result"
    }
   ],
   "source": [
    "### COnvert List\n",
    "list(d6.values())"
   ]
  },
  {
   "cell_type": "code",
   "execution_count": 27,
   "id": "43f2ca23-ea06-4b4e-9272-4b84d8fa193a",
   "metadata": {},
   "outputs": [
    {
     "data": {
      "text/plain": [
       "dict_items([('assingment', (1, 2, 3, 4, 5, 6)), ('Launch Date', {28, 12, 14}), ('class Timing', {'web_dev': 8, 'data Science': 7}), ('mentor', ['Sudhanshu', 'krish', 'Anurag', 'Hayder'])])"
      ]
     },
     "execution_count": 27,
     "metadata": {},
     "output_type": "execute_result"
    }
   ],
   "source": [
    "d6.items()"
   ]
  },
  {
   "cell_type": "code",
   "execution_count": 28,
   "id": "8f308b8e-debb-4c2e-87f3-b89163fd92dd",
   "metadata": {},
   "outputs": [
    {
     "data": {
      "text/plain": [
       "(1, 2, 3, 4, 5, 6)"
      ]
     },
     "execution_count": 28,
     "metadata": {},
     "output_type": "execute_result"
    }
   ],
   "source": [
    "d6.pop(\"assingment\")"
   ]
  },
  {
   "cell_type": "code",
   "execution_count": 29,
   "id": "e6e0e924-8db6-4f25-a8e1-623047a5ef0b",
   "metadata": {},
   "outputs": [
    {
     "data": {
      "text/plain": [
       "{'Launch Date': {12, 14, 28},\n",
       " 'class Timing': {'web_dev': 8, 'data Science': 7},\n",
       " 'mentor': ['Sudhanshu', 'krish', 'Anurag', 'Hayder']}"
      ]
     },
     "execution_count": 29,
     "metadata": {},
     "output_type": "execute_result"
    }
   ],
   "source": [
    "d6"
   ]
  },
  {
   "cell_type": "code",
   "execution_count": null,
   "id": "830c1f41-4109-45cb-bb55-8d9f97e6da66",
   "metadata": {},
   "outputs": [],
   "source": []
  },
  {
   "cell_type": "code",
   "execution_count": null,
   "id": "7ec75123-2487-47ce-bd5f-b93233ad4824",
   "metadata": {},
   "outputs": [],
   "source": []
  },
  {
   "cell_type": "markdown",
   "id": "4794c0c7-b361-4ad9-b0c8-a3649e34f91a",
   "metadata": {},
   "source": [
    "CONTROL STATEMENT"
   ]
  },
  {
   "cell_type": "code",
   "execution_count": 2,
   "id": "1f1fe5a0-a47c-4f57-b520-d82f4218509a",
   "metadata": {},
   "outputs": [
    {
     "name": "stdout",
     "output_type": "stream",
     "text": [
      "You will be a part of A1 batch\n"
     ]
    }
   ],
   "source": [
    "marks = 70\n",
    "if marks >= 80 :\n",
    "    print(\"You Will be Part of A0 batch\")\n",
    "elif marks >= 60 and marks < 80 :\n",
    "    print(\"You will be a part of A1 batch\")\n",
    "elif marks >= 40 and marks < 60 :\n",
    "    print ( \" You will be a part of A2 batch\")\n",
    "else :\n",
    "    print(\"You will be a part of A3 batch\")\n",
    "    "
   ]
  },
  {
   "cell_type": "code",
   "execution_count": 4,
   "id": "9375eb7f-eb8a-4ee2-bb68-1ed386fafb94",
   "metadata": {},
   "outputs": [
    {
     "name": "stdin",
     "output_type": "stream",
     "text": [
      "Enter Your Marks 82\n"
     ]
    },
    {
     "name": "stdout",
     "output_type": "stream",
     "text": [
      "You Will be Part of A0 batch\n"
     ]
    }
   ],
   "source": [
    "marks =int( input(\"Enter Your Marks\"))\n",
    "if marks >= 80 :\n",
    "    print(\"You Will be Part of A0 batch\")\n",
    "elif marks >= 60 and marks < 80 :\n",
    "    print(\"You will be a part of A1 batch\")\n",
    "elif marks >= 40 and marks < 60 :\n",
    "    print ( \" You will be a part of A2 batch\")\n",
    "else :\n",
    "    print(\"You will be a part of A3 batch\")"
   ]
  },
  {
   "cell_type": "code",
   "execution_count": 5,
   "id": "58a1e62e-96aa-4b88-9900-aaa2e8f1de40",
   "metadata": {},
   "outputs": [
    {
     "name": "stdin",
     "output_type": "stream",
     "text": [
      "Enter a amount 300\n"
     ]
    },
    {
     "name": "stdout",
     "output_type": "stream",
     "text": [
      "I will purchase\n"
     ]
    }
   ],
   "source": [
    "price =int(input('Enter a amount'))\n",
    "if price > 1000 :\n",
    "    print (' I will not purchase')\n",
    "else :\n",
    "    print('I will purchase')"
   ]
  },
  {
   "cell_type": "code",
   "execution_count": 7,
   "id": "126f2a11-60c0-46ee-8338-772cd4d921d4",
   "metadata": {},
   "outputs": [
    {
     "name": "stdin",
     "output_type": "stream",
     "text": [
      "Enter a amount 7000\n"
     ]
    },
    {
     "name": "stdout",
     "output_type": "stream",
     "text": [
      "I will not purchase\n",
      "This is too much\n"
     ]
    }
   ],
   "source": [
    "price =int(input('Enter a amount'))\n",
    "if price > 1000 :\n",
    "    print ('I will not purchase')\n",
    "    if price > 5000:\n",
    "        print(\"This is too much\")\n"
   ]
  },
  {
   "cell_type": "code",
   "execution_count": null,
   "id": "9d5c572f-e706-4a09-a202-de9862a82f57",
   "metadata": {},
   "outputs": [],
   "source": []
  },
  {
   "cell_type": "code",
   "execution_count": null,
   "id": "8c784159-d910-475e-a8a2-a20531628db0",
   "metadata": {},
   "outputs": [],
   "source": []
  },
  {
   "cell_type": "markdown",
   "id": "91b4ea65-f3e6-4ab5-a679-12080b5bda47",
   "metadata": {},
   "source": [
    "LOOP\n"
   ]
  },
  {
   "cell_type": "code",
   "execution_count": 8,
   "id": "5f048ff0-6b78-4483-9935-bd28d439dbd6",
   "metadata": {},
   "outputs": [],
   "source": [
    "l = [1,2,3,4,5,6,7,8]\n"
   ]
  },
  {
   "cell_type": "code",
   "execution_count": 10,
   "id": "d0eebcf1-05ad-4090-96f8-a68bcf245349",
   "metadata": {},
   "outputs": [
    {
     "data": {
      "text/plain": [
       "2"
      ]
     },
     "execution_count": 10,
     "metadata": {},
     "output_type": "execute_result"
    }
   ],
   "source": [
    "l[0] + 1"
   ]
  },
  {
   "cell_type": "code",
   "execution_count": 11,
   "id": "04b0639d-bd9c-4c60-968a-5bb2eba5c067",
   "metadata": {},
   "outputs": [],
   "source": [
    "l1 = []"
   ]
  },
  {
   "cell_type": "code",
   "execution_count": 13,
   "id": "6b68ae49-257b-4ba2-9226-cba768906a49",
   "metadata": {},
   "outputs": [],
   "source": [
    "l1.append(l[0] + 1)\n"
   ]
  },
  {
   "cell_type": "code",
   "execution_count": 14,
   "id": "66240929-712b-4d90-86e4-2a43792121a2",
   "metadata": {},
   "outputs": [
    {
     "data": {
      "text/plain": [
       "[2]"
      ]
     },
     "execution_count": 14,
     "metadata": {},
     "output_type": "execute_result"
    }
   ],
   "source": [
    "l1"
   ]
  },
  {
   "cell_type": "code",
   "execution_count": 19,
   "id": "5448d609-d38a-4155-9773-623fd2ab686f",
   "metadata": {},
   "outputs": [
    {
     "name": "stdout",
     "output_type": "stream",
     "text": [
      "2\n",
      "3\n",
      "4\n",
      "5\n",
      "6\n",
      "7\n",
      "8\n",
      "9\n"
     ]
    },
    {
     "data": {
      "text/plain": [
       "[2, 3, 4, 5, 6, 7, 8, 9]"
      ]
     },
     "execution_count": 19,
     "metadata": {},
     "output_type": "execute_result"
    }
   ],
   "source": [
    "l1 =[]\n",
    "for i in l :\n",
    "    print(i+1)\n",
    "    l1.append(i+1)\n",
    "l1"
   ]
  },
  {
   "cell_type": "code",
   "execution_count": 22,
   "id": "7f9c9fdc-e173-4008-84a1-a037d8754d4d",
   "metadata": {},
   "outputs": [
    {
     "name": "stdout",
     "output_type": "stream",
     "text": [
      "Sudh\n",
      "Kumar\n",
      "Pwskills\n",
      "Course\n"
     ]
    },
    {
     "data": {
      "text/plain": [
       "['SUDH', 'KUMAR', 'PWSKILLS', 'COURSE']"
      ]
     },
     "execution_count": 22,
     "metadata": {},
     "output_type": "execute_result"
    }
   ],
   "source": [
    "l1=[]\n",
    "l = [\"Sudh\",\"Kumar\",\"Pwskills\",\"Course\"]\n",
    "for i in l :\n",
    "    print(i)\n",
    "    l1.append(i.upper())\n",
    "l1"
   ]
  },
  {
   "cell_type": "code",
   "execution_count": 23,
   "id": "caf93e7b-9797-4214-b887-2c45dbf65024",
   "metadata": {},
   "outputs": [],
   "source": [
    "l =[1,2,3,4,4,\"tahs\",\"kumar\",324,34.24,\"abc\"]"
   ]
  },
  {
   "cell_type": "code",
   "execution_count": 26,
   "id": "14f0ce62-c94f-4a17-af0b-62672f5bcf39",
   "metadata": {},
   "outputs": [],
   "source": [
    "l1_num = []\n",
    "l2_str = []\n",
    "for i in l :\n",
    "    if type(i) == int or type(i)== float :\n",
    "        l1_num.append(i)\n",
    "    else:\n",
    "        l2_str.append(i)\n",
    "    \n"
   ]
  },
  {
   "cell_type": "code",
   "execution_count": 28,
   "id": "0636f464-2dfc-42f5-b400-aa9b35ed897d",
   "metadata": {},
   "outputs": [
    {
     "data": {
      "text/plain": [
       "[1, 2, 3, 4, 4, 324, 34.24]"
      ]
     },
     "execution_count": 28,
     "metadata": {},
     "output_type": "execute_result"
    }
   ],
   "source": [
    "l1_num\n"
   ]
  },
  {
   "cell_type": "code",
   "execution_count": 30,
   "id": "a9ce7ada-0ffe-43f1-adc7-4cb3dcb463ed",
   "metadata": {},
   "outputs": [
    {
     "data": {
      "text/plain": [
       "['tahs', 'kumar', 'abc']"
      ]
     },
     "execution_count": 30,
     "metadata": {},
     "output_type": "execute_result"
    }
   ],
   "source": [
    "l2_str"
   ]
  },
  {
   "cell_type": "code",
   "execution_count": null,
   "id": "30e0bd6a-fdbf-4045-b711-821cefd0ec7a",
   "metadata": {},
   "outputs": [],
   "source": []
  }
 ],
 "metadata": {
  "kernelspec": {
   "display_name": "Python 3 (ipykernel)",
   "language": "python",
   "name": "python3"
  },
  "language_info": {
   "codemirror_mode": {
    "name": "ipython",
    "version": 3
   },
   "file_extension": ".py",
   "mimetype": "text/x-python",
   "name": "python",
   "nbconvert_exporter": "python",
   "pygments_lexer": "ipython3",
   "version": "3.10.8"
  }
 },
 "nbformat": 4,
 "nbformat_minor": 5
}

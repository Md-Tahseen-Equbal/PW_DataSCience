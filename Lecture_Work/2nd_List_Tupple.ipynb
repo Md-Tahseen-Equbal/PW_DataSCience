{
 "cells": [
  {
   "cell_type": "markdown",
   "id": "b61253e1-70cb-41f0-8937-d49f15fc436d",
   "metadata": {},
   "source": [
    "List"
   ]
  },
  {
   "cell_type": "code",
   "execution_count": 1,
   "id": "b6d62113-a7df-46f0-951c-40ecbc480ac8",
   "metadata": {},
   "outputs": [],
   "source": [
    "l = [1,2,3,'Tah',True,5+7j]"
   ]
  },
  {
   "cell_type": "code",
   "execution_count": 2,
   "id": "5d182790-f495-4a98-b713-afdf2d40ba58",
   "metadata": {},
   "outputs": [
    {
     "data": {
      "text/plain": [
       "list"
      ]
     },
     "execution_count": 2,
     "metadata": {},
     "output_type": "execute_result"
    }
   ],
   "source": [
    "type(l)"
   ]
  },
  {
   "cell_type": "code",
   "execution_count": 5,
   "id": "9af67190-794d-440a-99e4-e3c246a23fb7",
   "metadata": {},
   "outputs": [
    {
     "data": {
      "text/plain": [
       "1"
      ]
     },
     "execution_count": 5,
     "metadata": {},
     "output_type": "execute_result"
    }
   ],
   "source": [
    "l[0]"
   ]
  },
  {
   "cell_type": "code",
   "execution_count": 7,
   "id": "01553d6f-4d49-4c74-8828-61044bbaa021",
   "metadata": {},
   "outputs": [
    {
     "data": {
      "text/plain": [
       "(5+7j)"
      ]
     },
     "execution_count": 7,
     "metadata": {},
     "output_type": "execute_result"
    }
   ],
   "source": [
    "l[5]"
   ]
  },
  {
   "cell_type": "code",
   "execution_count": 8,
   "id": "2627c44b-c42a-4a8b-b383-acc66e0ea1bf",
   "metadata": {},
   "outputs": [
    {
     "data": {
      "text/plain": [
       "[1, 2, 3, 'Tah']"
      ]
     },
     "execution_count": 8,
     "metadata": {},
     "output_type": "execute_result"
    }
   ],
   "source": [
    "l[0:4:1]"
   ]
  },
  {
   "cell_type": "code",
   "execution_count": 9,
   "id": "7d1d29b7-b090-490c-b6b1-ad08bd03e9a2",
   "metadata": {},
   "outputs": [
    {
     "data": {
      "text/plain": [
       "[(5+7j), True, 'Tah', 3, 2, 1]"
      ]
     },
     "execution_count": 9,
     "metadata": {},
     "output_type": "execute_result"
    }
   ],
   "source": [
    "l[::-1]"
   ]
  },
  {
   "cell_type": "code",
   "execution_count": 10,
   "id": "b378e35b-bb26-4ae6-bc2c-156edbf61601",
   "metadata": {},
   "outputs": [
    {
     "data": {
      "text/plain": [
       "[(5+7j), True, 'Tah', 3, 2, 1]"
      ]
     },
     "execution_count": 10,
     "metadata": {},
     "output_type": "execute_result"
    }
   ],
   "source": [
    "l[-1::-1]"
   ]
  },
  {
   "cell_type": "code",
   "execution_count": 11,
   "id": "2ddc4ae4-f146-48ea-9cb9-526ad5bf5539",
   "metadata": {},
   "outputs": [
    {
     "data": {
      "text/plain": [
       "[1, 3, True]"
      ]
     },
     "execution_count": 11,
     "metadata": {},
     "output_type": "execute_result"
    }
   ],
   "source": [
    "l[::2]\n"
   ]
  },
  {
   "cell_type": "code",
   "execution_count": 12,
   "id": "43f753d9-c448-4a57-b6b7-b876c52b4cb5",
   "metadata": {},
   "outputs": [
    {
     "data": {
      "text/plain": [
       "[1, 2, 3, 'Tah', True, (5+7j)]"
      ]
     },
     "execution_count": 12,
     "metadata": {},
     "output_type": "execute_result"
    }
   ],
   "source": [
    "l"
   ]
  },
  {
   "cell_type": "code",
   "execution_count": 13,
   "id": "dabcb670-827a-4a88-abb7-67459684cb31",
   "metadata": {},
   "outputs": [],
   "source": [
    "s= \"Pwskills\""
   ]
  },
  {
   "cell_type": "code",
   "execution_count": 14,
   "id": "203ae70b-f0d0-44aa-9905-e0c84da87fde",
   "metadata": {},
   "outputs": [
    {
     "ename": "TypeError",
     "evalue": "can only concatenate list (not \"int\") to list",
     "output_type": "error",
     "traceback": [
      "\u001b[0;31m---------------------------------------------------------------------------\u001b[0m",
      "\u001b[0;31mTypeError\u001b[0m                                 Traceback (most recent call last)",
      "Cell \u001b[0;32mIn[14], line 1\u001b[0m\n\u001b[0;32m----> 1\u001b[0m \u001b[38;5;28;43mlist\u001b[39;49m\u001b[43m(\u001b[49m\u001b[43ms\u001b[49m\u001b[43m)\u001b[49m\u001b[38;5;241;43m+\u001b[39;49m\u001b[38;5;241;43m1\u001b[39;49m\n",
      "\u001b[0;31mTypeError\u001b[0m: can only concatenate list (not \"int\") to list"
     ]
    }
   ],
   "source": [
    "list(s)+1"
   ]
  },
  {
   "cell_type": "code",
   "execution_count": 15,
   "id": "5f7b44f7-ae4a-4dcc-8ee7-7c37b1d579ed",
   "metadata": {},
   "outputs": [
    {
     "data": {
      "text/plain": [
       "[1, 2, 3, 'Tah', True, (5+7j)]"
      ]
     },
     "execution_count": 15,
     "metadata": {},
     "output_type": "execute_result"
    }
   ],
   "source": [
    "l"
   ]
  },
  {
   "cell_type": "code",
   "execution_count": 16,
   "id": "f4f5429e-300a-4487-96e0-7b4149d4512e",
   "metadata": {},
   "outputs": [
    {
     "data": {
      "text/plain": [
       "'Tah'"
      ]
     },
     "execution_count": 16,
     "metadata": {},
     "output_type": "execute_result"
    }
   ],
   "source": [
    "l[3]\n"
   ]
  },
  {
   "cell_type": "code",
   "execution_count": 18,
   "id": "fb743273-72e5-49ba-bae5-338c2386678f",
   "metadata": {},
   "outputs": [
    {
     "data": {
      "text/plain": [
       "'Ta'"
      ]
     },
     "execution_count": 18,
     "metadata": {},
     "output_type": "execute_result"
    }
   ],
   "source": [
    "l[3][0:2]"
   ]
  },
  {
   "cell_type": "code",
   "execution_count": 19,
   "id": "52b6c3c3-1b0c-45c8-abcb-281a0bd0a840",
   "metadata": {},
   "outputs": [
    {
     "data": {
      "text/plain": [
       "True"
      ]
     },
     "execution_count": 19,
     "metadata": {},
     "output_type": "execute_result"
    }
   ],
   "source": [
    "l[4]\n"
   ]
  },
  {
   "cell_type": "code",
   "execution_count": 21,
   "id": "1c6b17e2-2659-40f4-a8d3-9523351f606a",
   "metadata": {},
   "outputs": [
    {
     "data": {
      "text/plain": [
       "'Tr'"
      ]
     },
     "execution_count": 21,
     "metadata": {},
     "output_type": "execute_result"
    }
   ],
   "source": [
    "str(l[4])[0:2]"
   ]
  },
  {
   "cell_type": "code",
   "execution_count": 22,
   "id": "20126d25-8173-4270-b290-8244abf7a736",
   "metadata": {},
   "outputs": [],
   "source": [
    "l1 =[3,1,4,5]\n"
   ]
  },
  {
   "cell_type": "code",
   "execution_count": 23,
   "id": "c4181c0f-3ec9-4db6-8b51-bba950a352bc",
   "metadata": {},
   "outputs": [
    {
     "data": {
      "text/plain": [
       "[1, 2, 3, 'Tah', True, (5+7j), 3, 1, 4, 5]"
      ]
     },
     "execution_count": 23,
     "metadata": {},
     "output_type": "execute_result"
    }
   ],
   "source": [
    "l+l1"
   ]
  },
  {
   "cell_type": "code",
   "execution_count": 25,
   "id": "2ead69d3-69d2-4857-9f50-8ba63b7f6566",
   "metadata": {},
   "outputs": [
    {
     "data": {
      "text/plain": [
       "[3, 1, 4, 5, 3, 1, 4, 5, 3, 1, 4, 5]"
      ]
     },
     "execution_count": 25,
     "metadata": {},
     "output_type": "execute_result"
    }
   ],
   "source": [
    "l1*3"
   ]
  },
  {
   "cell_type": "code",
   "execution_count": 28,
   "id": "2629bb8d-4525-4a8f-a992-c0d6062c06ee",
   "metadata": {},
   "outputs": [
    {
     "data": {
      "text/plain": [
       "6"
      ]
     },
     "execution_count": 28,
     "metadata": {},
     "output_type": "execute_result"
    }
   ],
   "source": [
    "len(l)\n"
   ]
  },
  {
   "cell_type": "code",
   "execution_count": 30,
   "id": "7f570a60-ec5d-43ea-af39-25acc00a3376",
   "metadata": {},
   "outputs": [],
   "source": [
    "l.append(5)"
   ]
  },
  {
   "cell_type": "code",
   "execution_count": 31,
   "id": "10867120-4a64-439a-8e92-ee703191c616",
   "metadata": {},
   "outputs": [
    {
     "data": {
      "text/plain": [
       "[1, 2, 3, 'Tah', True, (5+7j), 5]"
      ]
     },
     "execution_count": 31,
     "metadata": {},
     "output_type": "execute_result"
    }
   ],
   "source": [
    "l\n"
   ]
  },
  {
   "cell_type": "code",
   "execution_count": 32,
   "id": "30309d96-f2f2-40f3-97a2-7b42e3281710",
   "metadata": {},
   "outputs": [],
   "source": [
    "l.append(s)"
   ]
  },
  {
   "cell_type": "code",
   "execution_count": 33,
   "id": "0d604f42-a121-4ee6-83a6-4bf3b0d94161",
   "metadata": {},
   "outputs": [
    {
     "data": {
      "text/plain": [
       "[1, 2, 3, 'Tah', True, (5+7j), 5, 'Pwskills']"
      ]
     },
     "execution_count": 33,
     "metadata": {},
     "output_type": "execute_result"
    }
   ],
   "source": [
    "l"
   ]
  },
  {
   "cell_type": "code",
   "execution_count": 36,
   "id": "8ccced05-2589-437a-a58c-7db9061267b8",
   "metadata": {},
   "outputs": [],
   "source": [
    "l.append(l1)\n"
   ]
  },
  {
   "cell_type": "code",
   "execution_count": 38,
   "id": "167ac5c2-ccce-4a13-b95c-e868d171811d",
   "metadata": {},
   "outputs": [
    {
     "data": {
      "text/plain": [
       "[1, 2, 3, 'Tah', True, (5+7j), 5, 'Pwskills', [...], [3, 1, 4, 5]]"
      ]
     },
     "execution_count": 38,
     "metadata": {},
     "output_type": "execute_result"
    }
   ],
   "source": [
    "l\n"
   ]
  },
  {
   "cell_type": "code",
   "execution_count": 40,
   "id": "ad09818b-ac1a-4b1c-9f1b-752220e00faa",
   "metadata": {},
   "outputs": [
    {
     "data": {
      "text/plain": [
       "4"
      ]
     },
     "execution_count": 40,
     "metadata": {},
     "output_type": "execute_result"
    }
   ],
   "source": [
    "l[-1][-2]"
   ]
  },
  {
   "cell_type": "code",
   "execution_count": 41,
   "id": "9e05a0e9-5710-417f-8c52-c4a662b5664d",
   "metadata": {},
   "outputs": [
    {
     "ename": "TypeError",
     "evalue": "'int' object is not iterable",
     "output_type": "error",
     "traceback": [
      "\u001b[0;31m---------------------------------------------------------------------------\u001b[0m",
      "\u001b[0;31mTypeError\u001b[0m                                 Traceback (most recent call last)",
      "Cell \u001b[0;32mIn[41], line 1\u001b[0m\n\u001b[0;32m----> 1\u001b[0m \u001b[43ml\u001b[49m\u001b[38;5;241;43m.\u001b[39;49m\u001b[43mextend\u001b[49m\u001b[43m(\u001b[49m\u001b[38;5;241;43m4\u001b[39;49m\u001b[43m)\u001b[49m\n",
      "\u001b[0;31mTypeError\u001b[0m: 'int' object is not iterable"
     ]
    }
   ],
   "source": [
    "l.extend(4)"
   ]
  },
  {
   "cell_type": "code",
   "execution_count": 43,
   "id": "2773b8ec-3a3a-4c5e-93d7-6c4af260ea3f",
   "metadata": {},
   "outputs": [],
   "source": [
    "l.extend(\"Sudh\")"
   ]
  },
  {
   "cell_type": "code",
   "execution_count": 44,
   "id": "84c1c57a-54bc-4e2f-ac74-bc38c1983c08",
   "metadata": {},
   "outputs": [
    {
     "data": {
      "text/plain": [
       "[1,\n",
       " 2,\n",
       " 3,\n",
       " 'Tah',\n",
       " True,\n",
       " (5+7j),\n",
       " 5,\n",
       " 'Pwskills',\n",
       " [...],\n",
       " [3, 1, 4, 5],\n",
       " 'S',\n",
       " 'u',\n",
       " 'd',\n",
       " 'h']"
      ]
     },
     "execution_count": 44,
     "metadata": {},
     "output_type": "execute_result"
    }
   ],
   "source": [
    "l"
   ]
  },
  {
   "cell_type": "code",
   "execution_count": 45,
   "id": "89c364b6-650c-4ed3-8469-f24fa0b7f7e0",
   "metadata": {},
   "outputs": [],
   "source": [
    "l.extend([3,4,5])"
   ]
  },
  {
   "cell_type": "code",
   "execution_count": 46,
   "id": "3b039dd9-add6-4477-a0c1-7b442d049b72",
   "metadata": {},
   "outputs": [
    {
     "data": {
      "text/plain": [
       "[1,\n",
       " 2,\n",
       " 3,\n",
       " 'Tah',\n",
       " True,\n",
       " (5+7j),\n",
       " 5,\n",
       " 'Pwskills',\n",
       " [...],\n",
       " [3, 1, 4, 5],\n",
       " 'S',\n",
       " 'u',\n",
       " 'd',\n",
       " 'h',\n",
       " 3,\n",
       " 4,\n",
       " 5]"
      ]
     },
     "execution_count": 46,
     "metadata": {},
     "output_type": "execute_result"
    }
   ],
   "source": [
    "l"
   ]
  },
  {
   "cell_type": "markdown",
   "id": "63c31000-a61a-4d9a-a313-6de829c0ecc6",
   "metadata": {},
   "source": [
    "Append - As it is Data store  \n",
    "Extend - 1st Unrap then store like if string then it unrap 1st in character then store"
   ]
  },
  {
   "cell_type": "code",
   "execution_count": 47,
   "id": "bcba0635-99c5-4a2e-a72f-e0a212377b1e",
   "metadata": {},
   "outputs": [
    {
     "data": {
      "text/plain": [
       "[3, 1, 4, 5]"
      ]
     },
     "execution_count": 47,
     "metadata": {},
     "output_type": "execute_result"
    }
   ],
   "source": [
    "l1\n"
   ]
  },
  {
   "cell_type": "code",
   "execution_count": 49,
   "id": "e0ce8422-6fdd-4c28-b15a-6b15ab176f31",
   "metadata": {},
   "outputs": [],
   "source": [
    "l1.insert(1,\"Tahseen\")"
   ]
  },
  {
   "cell_type": "markdown",
   "id": "6b01e0b3-41d3-4c04-ba76-358e30012e46",
   "metadata": {},
   "source": [
    "# "
   ]
  },
  {
   "cell_type": "code",
   "execution_count": 50,
   "id": "fa12e4fe-e8cb-4235-82b7-4c9c2fbdeff6",
   "metadata": {},
   "outputs": [
    {
     "data": {
      "text/plain": [
       "[3, 'Tahseen', 1, 4, 5]"
      ]
     },
     "execution_count": 50,
     "metadata": {},
     "output_type": "execute_result"
    }
   ],
   "source": [
    "l1"
   ]
  },
  {
   "cell_type": "code",
   "execution_count": 53,
   "id": "322213c0-9dfb-44a6-9132-b3eb2b296397",
   "metadata": {},
   "outputs": [],
   "source": [
    "l1.insert(2,[2,3,4])"
   ]
  },
  {
   "cell_type": "code",
   "execution_count": 54,
   "id": "541b9de0-5cea-4ca5-a9b0-995c51ca48ad",
   "metadata": {},
   "outputs": [
    {
     "data": {
      "text/plain": [
       "[3, 'Tahseen', [2, 3, 4], 1, 4, 5]"
      ]
     },
     "execution_count": 54,
     "metadata": {},
     "output_type": "execute_result"
    }
   ],
   "source": [
    "l1"
   ]
  },
  {
   "cell_type": "code",
   "execution_count": 57,
   "id": "967c01fc-a126-4c03-a5cb-5eb218802776",
   "metadata": {},
   "outputs": [],
   "source": [
    "l1.insert(-1,45) # Important"
   ]
  },
  {
   "cell_type": "code",
   "execution_count": 56,
   "id": "89bba665-aad4-479c-a589-844b29a75f2f",
   "metadata": {},
   "outputs": [
    {
     "data": {
      "text/plain": [
       "[3, 'Tahseen', [2, 3, 4], 1, 4, 45, 5]"
      ]
     },
     "execution_count": 56,
     "metadata": {},
     "output_type": "execute_result"
    }
   ],
   "source": [
    "l1"
   ]
  },
  {
   "cell_type": "markdown",
   "id": "da94dddd-d177-4619-9309-dabfb29ece5b",
   "metadata": {},
   "source": [
    "Delete Data"
   ]
  },
  {
   "cell_type": "code",
   "execution_count": 60,
   "id": "47443563-a7f2-489b-b2fd-4b3531a44ecd",
   "metadata": {},
   "outputs": [
    {
     "data": {
      "text/plain": [
       "45"
      ]
     },
     "execution_count": 60,
     "metadata": {},
     "output_type": "execute_result"
    }
   ],
   "source": [
    "l1.pop() # Last index data Del"
   ]
  },
  {
   "cell_type": "code",
   "execution_count": 59,
   "id": "e2fe0328-7af4-44b1-a5c0-d06efe046ad2",
   "metadata": {},
   "outputs": [
    {
     "data": {
      "text/plain": [
       "[3, 'Tahseen', [2, 3, 4], 1, 4, 45, 45]"
      ]
     },
     "execution_count": 59,
     "metadata": {},
     "output_type": "execute_result"
    }
   ],
   "source": [
    "l1"
   ]
  },
  {
   "cell_type": "code",
   "execution_count": 62,
   "id": "6c29791e-b232-4eac-bb76-94e9b154f15c",
   "metadata": {},
   "outputs": [
    {
     "data": {
      "text/plain": [
       "[2, 3, 4]"
      ]
     },
     "execution_count": 62,
     "metadata": {},
     "output_type": "execute_result"
    }
   ],
   "source": [
    "l1.pop(2)"
   ]
  },
  {
   "cell_type": "code",
   "execution_count": 3,
   "id": "47898454-95c3-42fe-a9ac-9300708156df",
   "metadata": {},
   "outputs": [],
   "source": [
    "l2= [2,3,4,5,5,6]"
   ]
  },
  {
   "cell_type": "code",
   "execution_count": 4,
   "id": "5680e731-0222-4188-9017-d6e6d960169f",
   "metadata": {},
   "outputs": [
    {
     "data": {
      "text/plain": [
       "[2, 3, 4, 5, 5, 6]"
      ]
     },
     "execution_count": 4,
     "metadata": {},
     "output_type": "execute_result"
    }
   ],
   "source": [
    "l2\n"
   ]
  },
  {
   "cell_type": "code",
   "execution_count": 5,
   "id": "383664a3-4d09-494a-8cb7-3883c4967737",
   "metadata": {},
   "outputs": [],
   "source": [
    "l2.remove(2)"
   ]
  },
  {
   "cell_type": "code",
   "execution_count": 6,
   "id": "91bdb139-6c3b-47c3-8eaf-8c041afc8b46",
   "metadata": {},
   "outputs": [
    {
     "data": {
      "text/plain": [
       "[3, 4, 5, 5, 6]"
      ]
     },
     "execution_count": 6,
     "metadata": {},
     "output_type": "execute_result"
    }
   ],
   "source": [
    "l2"
   ]
  },
  {
   "cell_type": "code",
   "execution_count": 10,
   "id": "130bc77b-9bdc-4461-9e9c-e29ee62a2296",
   "metadata": {},
   "outputs": [],
   "source": [
    "l3= [3,4,'Tahse',6,[4,6,7],8]"
   ]
  },
  {
   "cell_type": "code",
   "execution_count": 11,
   "id": "b90212e9-d3ad-4a7f-b2ff-823e393aa43d",
   "metadata": {},
   "outputs": [],
   "source": [
    "l3[4].remove(4)\n"
   ]
  },
  {
   "cell_type": "code",
   "execution_count": 12,
   "id": "981ff16c-7d20-4cb1-b5fe-9975cca1ba01",
   "metadata": {},
   "outputs": [
    {
     "data": {
      "text/plain": [
       "[3, 4, 'Tahse', 6, [6, 7], 8]"
      ]
     },
     "execution_count": 12,
     "metadata": {},
     "output_type": "execute_result"
    }
   ],
   "source": [
    "l3"
   ]
  },
  {
   "cell_type": "code",
   "execution_count": 13,
   "id": "c8edbe76-46bb-4658-8cb1-db46c05ba0b3",
   "metadata": {},
   "outputs": [],
   "source": [
    "l3.reverse() # Permanent Reverse of original list\n"
   ]
  },
  {
   "cell_type": "code",
   "execution_count": 14,
   "id": "4936580c-f927-4ae5-9842-f15f142b9d89",
   "metadata": {},
   "outputs": [
    {
     "data": {
      "text/plain": [
       "[8, [6, 7], 6, 'Tahse', 4, 3]"
      ]
     },
     "execution_count": 14,
     "metadata": {},
     "output_type": "execute_result"
    }
   ],
   "source": [
    "l3"
   ]
  },
  {
   "cell_type": "code",
   "execution_count": 16,
   "id": "ec3b5dc9-e558-4474-9977-7e8afda61854",
   "metadata": {},
   "outputs": [
    {
     "data": {
      "text/plain": [
       "[3, 4, 'Tahse', 6, [6, 7], 8]"
      ]
     },
     "execution_count": 16,
     "metadata": {},
     "output_type": "execute_result"
    }
   ],
   "source": [
    "l3[::-1] # Temporary reverse not effect on original"
   ]
  },
  {
   "cell_type": "code",
   "execution_count": 18,
   "id": "2e59c01b-3619-452a-b215-c41b14e1d276",
   "metadata": {},
   "outputs": [],
   "source": [
    "l4=[4,8,10,2,5,7,9]"
   ]
  },
  {
   "cell_type": "code",
   "execution_count": 19,
   "id": "500b84fc-6289-4db1-963c-d629936241f8",
   "metadata": {},
   "outputs": [
    {
     "data": {
      "text/plain": [
       "[4, 8, 10, 2, 5, 7, 9]"
      ]
     },
     "execution_count": 19,
     "metadata": {},
     "output_type": "execute_result"
    }
   ],
   "source": [
    "l4"
   ]
  },
  {
   "cell_type": "code",
   "execution_count": 20,
   "id": "819d9ee9-d41a-4b6a-a8b4-3ff6958f37c0",
   "metadata": {},
   "outputs": [],
   "source": [
    "l4.sort()"
   ]
  },
  {
   "cell_type": "code",
   "execution_count": 21,
   "id": "4c7a621f-2d56-4c1e-827f-d85bfbeecb08",
   "metadata": {},
   "outputs": [
    {
     "data": {
      "text/plain": [
       "[2, 4, 5, 7, 8, 9, 10]"
      ]
     },
     "execution_count": 21,
     "metadata": {},
     "output_type": "execute_result"
    }
   ],
   "source": [
    "l4"
   ]
  },
  {
   "cell_type": "code",
   "execution_count": 22,
   "id": "ede83b49-eadc-4b4e-a131-24c27ec3a62c",
   "metadata": {},
   "outputs": [],
   "source": [
    "l5=[34,'Tahseen',45,10]"
   ]
  },
  {
   "cell_type": "code",
   "execution_count": 23,
   "id": "5b955b22-df9c-40f1-9b93-e78e26748017",
   "metadata": {},
   "outputs": [
    {
     "ename": "TypeError",
     "evalue": "'<' not supported between instances of 'str' and 'int'",
     "output_type": "error",
     "traceback": [
      "\u001b[0;31m---------------------------------------------------------------------------\u001b[0m",
      "\u001b[0;31mTypeError\u001b[0m                                 Traceback (most recent call last)",
      "Cell \u001b[0;32mIn[23], line 1\u001b[0m\n\u001b[0;32m----> 1\u001b[0m \u001b[43ml5\u001b[49m\u001b[38;5;241;43m.\u001b[39;49m\u001b[43msort\u001b[49m\u001b[43m(\u001b[49m\u001b[43m)\u001b[49m\n",
      "\u001b[0;31mTypeError\u001b[0m: '<' not supported between instances of 'str' and 'int'"
     ]
    }
   ],
   "source": [
    "l5.sort()\n"
   ]
  },
  {
   "cell_type": "code",
   "execution_count": 38,
   "id": "2cd70ab0-d59b-4e7a-a283-78dfbb8b9e4c",
   "metadata": {},
   "outputs": [],
   "source": [
    "l6 = ['Sudh','Tahseen','anaque','pwskill','ab']\n"
   ]
  },
  {
   "cell_type": "code",
   "execution_count": 34,
   "id": "6c477541-7a2e-4ee6-a6fe-3925d9a7a211",
   "metadata": {},
   "outputs": [],
   "source": [
    "l6.sort()"
   ]
  },
  {
   "cell_type": "code",
   "execution_count": 35,
   "id": "9ba1c4b0-5c16-4dd0-bef5-4022b6c39b0a",
   "metadata": {},
   "outputs": [
    {
     "data": {
      "text/plain": [
       "['Sudh', 'Tahseen', 'ab', 'anaque', 'pwskill']"
      ]
     },
     "execution_count": 35,
     "metadata": {},
     "output_type": "execute_result"
    }
   ],
   "source": [
    "l6"
   ]
  },
  {
   "cell_type": "code",
   "execution_count": 36,
   "id": "93babb6f-c4eb-4cbc-afa2-c40d04623f35",
   "metadata": {},
   "outputs": [],
   "source": [
    "l6.sort(reverse=True)"
   ]
  },
  {
   "cell_type": "code",
   "execution_count": 37,
   "id": "b2585eb5-4e3f-4c6c-a599-bcc7b031be50",
   "metadata": {},
   "outputs": [
    {
     "data": {
      "text/plain": [
       "['pwskill', 'anaque', 'ab', 'Tahseen', 'Sudh']"
      ]
     },
     "execution_count": 37,
     "metadata": {},
     "output_type": "execute_result"
    }
   ],
   "source": [
    "l6"
   ]
  },
  {
   "cell_type": "code",
   "execution_count": 39,
   "id": "6fd89d68-6af3-4743-8990-c23a0d1e7416",
   "metadata": {},
   "outputs": [],
   "source": [
    "l4.sort(reverse=True)"
   ]
  },
  {
   "cell_type": "code",
   "execution_count": 40,
   "id": "2a8895c6-0ff5-4ad0-bb99-5cb92e0e4e7a",
   "metadata": {},
   "outputs": [
    {
     "data": {
      "text/plain": [
       "[10, 9, 8, 7, 5, 4, 2]"
      ]
     },
     "execution_count": 40,
     "metadata": {},
     "output_type": "execute_result"
    }
   ],
   "source": [
    "l4"
   ]
  },
  {
   "cell_type": "code",
   "execution_count": 41,
   "id": "1dafa993-6fb6-4086-a7ea-0b0a4b70e32c",
   "metadata": {},
   "outputs": [
    {
     "data": {
      "text/plain": [
       "2"
      ]
     },
     "execution_count": 41,
     "metadata": {},
     "output_type": "execute_result"
    }
   ],
   "source": [
    "l4.index(8)"
   ]
  },
  {
   "cell_type": "code",
   "execution_count": 43,
   "id": "05b67ebf-9547-446e-939a-d954eebe8e9a",
   "metadata": {},
   "outputs": [
    {
     "data": {
      "text/plain": [
       "1"
      ]
     },
     "execution_count": 43,
     "metadata": {},
     "output_type": "execute_result"
    }
   ],
   "source": [
    "l4.count(8)"
   ]
  },
  {
   "cell_type": "code",
   "execution_count": 44,
   "id": "dd57c715-3118-4262-907c-4e4eeae503d6",
   "metadata": {},
   "outputs": [],
   "source": [
    "s='sudh'"
   ]
  },
  {
   "cell_type": "code",
   "execution_count": 45,
   "id": "575207a5-6124-4dd3-a17f-3a6a6d6c53c0",
   "metadata": {},
   "outputs": [],
   "source": [
    "l7=[3,4,5,6]"
   ]
  },
  {
   "cell_type": "code",
   "execution_count": 47,
   "id": "270015cf-edf0-4be0-9286-49351b271c45",
   "metadata": {},
   "outputs": [
    {
     "ename": "TypeError",
     "evalue": "'str' object does not support item assignment",
     "output_type": "error",
     "traceback": [
      "\u001b[0;31m---------------------------------------------------------------------------\u001b[0m",
      "\u001b[0;31mTypeError\u001b[0m                                 Traceback (most recent call last)",
      "Cell \u001b[0;32mIn[47], line 1\u001b[0m\n\u001b[0;32m----> 1\u001b[0m \u001b[43ms\u001b[49m\u001b[43m[\u001b[49m\u001b[38;5;241;43m0\u001b[39;49m\u001b[43m]\u001b[49m\u001b[38;5;241m=\u001b[39m\u001b[38;5;124m'\u001b[39m\u001b[38;5;124ma\u001b[39m\u001b[38;5;124m'\u001b[39m\n",
      "\u001b[0;31mTypeError\u001b[0m: 'str' object does not support item assignment"
     ]
    }
   ],
   "source": [
    "s[0]='a'"
   ]
  },
  {
   "cell_type": "code",
   "execution_count": 49,
   "id": "fb01f809-11f4-4036-bb7c-131655f87627",
   "metadata": {},
   "outputs": [],
   "source": [
    "l7[0]=30"
   ]
  },
  {
   "cell_type": "code",
   "execution_count": 50,
   "id": "3d500c59-9cb7-4d31-8be3-6791c821af8a",
   "metadata": {},
   "outputs": [
    {
     "data": {
      "text/plain": [
       "[30, 4, 5, 6]"
      ]
     },
     "execution_count": 50,
     "metadata": {},
     "output_type": "execute_result"
    }
   ],
   "source": [
    "l7"
   ]
  },
  {
   "cell_type": "code",
   "execution_count": 51,
   "id": "36e3f619-0985-4a06-b011-9b4f2bb9360a",
   "metadata": {},
   "outputs": [
    {
     "data": {
      "text/plain": [
       "'audh'"
      ]
     },
     "execution_count": 51,
     "metadata": {},
     "output_type": "execute_result"
    }
   ],
   "source": [
    "s.replace('s','a')"
   ]
  },
  {
   "cell_type": "code",
   "execution_count": 52,
   "id": "be1a6c6b-1df0-4bba-8254-27d9039a56ed",
   "metadata": {},
   "outputs": [
    {
     "data": {
      "text/plain": [
       "'sudh'"
      ]
     },
     "execution_count": 52,
     "metadata": {},
     "output_type": "execute_result"
    }
   ],
   "source": [
    "s\n"
   ]
  },
  {
   "cell_type": "code",
   "execution_count": null,
   "id": "f42bdbc7-d9af-4979-83b5-a59f5724103b",
   "metadata": {},
   "outputs": [],
   "source": []
  },
  {
   "cell_type": "code",
   "execution_count": null,
   "id": "6133acf4-ba32-408c-993b-d647555935b8",
   "metadata": {},
   "outputs": [],
   "source": []
  },
  {
   "cell_type": "markdown",
   "id": "de755eba-d695-474a-96c6-19e51d5218fd",
   "metadata": {},
   "source": [
    "Tuppels"
   ]
  },
  {
   "cell_type": "code",
   "execution_count": 54,
   "id": "a94bb665-5553-4bb9-b878-c15b44c58d1f",
   "metadata": {},
   "outputs": [],
   "source": [
    "t=(2,3,4,'Tahs',False,45+8j,[3,4,5])"
   ]
  },
  {
   "cell_type": "code",
   "execution_count": 55,
   "id": "059d4d54-e6c4-46e9-a3c6-057a6d5565c4",
   "metadata": {},
   "outputs": [
    {
     "data": {
      "text/plain": [
       "(2, 3, 4, 'Tahs', False, (45+8j), [3, 4, 5])"
      ]
     },
     "execution_count": 55,
     "metadata": {},
     "output_type": "execute_result"
    }
   ],
   "source": [
    "t"
   ]
  },
  {
   "cell_type": "code",
   "execution_count": 56,
   "id": "2fbddbe0-cca2-44d6-aa8e-dc7ebfe75b54",
   "metadata": {},
   "outputs": [
    {
     "data": {
      "text/plain": [
       "tuple"
      ]
     },
     "execution_count": 56,
     "metadata": {},
     "output_type": "execute_result"
    }
   ],
   "source": [
    "type(t)\n"
   ]
  },
  {
   "cell_type": "code",
   "execution_count": 58,
   "id": "cde63d7b-1e92-444c-904f-8a8630b09129",
   "metadata": {},
   "outputs": [
    {
     "data": {
      "text/plain": [
       "7"
      ]
     },
     "execution_count": 58,
     "metadata": {},
     "output_type": "execute_result"
    }
   ],
   "source": [
    "len(t)"
   ]
  },
  {
   "cell_type": "code",
   "execution_count": 59,
   "id": "47402745-2921-46ce-9c6e-8ba0b3ac9412",
   "metadata": {},
   "outputs": [
    {
     "data": {
      "text/plain": [
       "2"
      ]
     },
     "execution_count": 59,
     "metadata": {},
     "output_type": "execute_result"
    }
   ],
   "source": [
    "t[0]"
   ]
  },
  {
   "cell_type": "code",
   "execution_count": 60,
   "id": "ce32b3a7-3da6-475c-89ae-527d5f314ab1",
   "metadata": {},
   "outputs": [
    {
     "data": {
      "text/plain": [
       "[3, 4, 5]"
      ]
     },
     "execution_count": 60,
     "metadata": {},
     "output_type": "execute_result"
    }
   ],
   "source": [
    "t[-1]"
   ]
  },
  {
   "cell_type": "code",
   "execution_count": 61,
   "id": "464bd97d-4bb1-4ca6-9377-ee93add9ba5e",
   "metadata": {},
   "outputs": [
    {
     "data": {
      "text/plain": [
       "([3, 4, 5], (45+8j), False, 'Tahs', 4, 3, 2)"
      ]
     },
     "execution_count": 61,
     "metadata": {},
     "output_type": "execute_result"
    }
   ],
   "source": [
    "t[::-1]"
   ]
  },
  {
   "cell_type": "code",
   "execution_count": 62,
   "id": "bdee03dd-ef71-41ec-92f0-3b8d682714f6",
   "metadata": {},
   "outputs": [
    {
     "data": {
      "text/plain": [
       "[10, 9, 8, 7, 5, 4, 2]"
      ]
     },
     "execution_count": 62,
     "metadata": {},
     "output_type": "execute_result"
    }
   ],
   "source": [
    "l4"
   ]
  },
  {
   "cell_type": "code",
   "execution_count": 63,
   "id": "d23d88eb-c1ad-45ef-8938-4b0bea436443",
   "metadata": {},
   "outputs": [
    {
     "data": {
      "text/plain": [
       "10"
      ]
     },
     "execution_count": 63,
     "metadata": {},
     "output_type": "execute_result"
    }
   ],
   "source": [
    "l4[0]"
   ]
  },
  {
   "cell_type": "code",
   "execution_count": 64,
   "id": "f827c846-0c53-4989-9ef2-3f547eb7eee0",
   "metadata": {},
   "outputs": [
    {
     "ename": "TypeError",
     "evalue": "'tuple' object does not support item assignment",
     "output_type": "error",
     "traceback": [
      "\u001b[0;31m---------------------------------------------------------------------------\u001b[0m",
      "\u001b[0;31mTypeError\u001b[0m                                 Traceback (most recent call last)",
      "Cell \u001b[0;32mIn[64], line 1\u001b[0m\n\u001b[0;32m----> 1\u001b[0m \u001b[43mt\u001b[49m\u001b[43m[\u001b[49m\u001b[38;5;241;43m0\u001b[39;49m\u001b[43m]\u001b[49m\u001b[38;5;241m=\u001b[39m\u001b[38;5;124m'\u001b[39m\u001b[38;5;124msudh\u001b[39m\u001b[38;5;124m'\u001b[39m\n",
      "\u001b[0;31mTypeError\u001b[0m: 'tuple' object does not support item assignment"
     ]
    }
   ],
   "source": [
    "t[0]='sudh'"
   ]
  },
  {
   "cell_type": "code",
   "execution_count": 65,
   "id": "e93e0d4b-4b71-4654-b04c-764d6166303f",
   "metadata": {},
   "outputs": [
    {
     "data": {
      "text/plain": [
       "4"
      ]
     },
     "execution_count": 65,
     "metadata": {},
     "output_type": "execute_result"
    }
   ],
   "source": [
    "t.index(False)"
   ]
  },
  {
   "cell_type": "code",
   "execution_count": 66,
   "id": "e6f77003-8be2-47b2-9085-c156ee368c5b",
   "metadata": {},
   "outputs": [],
   "source": [
    "s1 ={}"
   ]
  },
  {
   "cell_type": "code",
   "execution_count": 67,
   "id": "9064e52c-5139-4c17-a2dd-2d250e9b0a00",
   "metadata": {},
   "outputs": [
    {
     "data": {
      "text/plain": [
       "dict"
      ]
     },
     "execution_count": 67,
     "metadata": {},
     "output_type": "execute_result"
    }
   ],
   "source": [
    "type(s1)"
   ]
  },
  {
   "cell_type": "code",
   "execution_count": 68,
   "id": "4afad86c-1e75-4344-9693-183cdb7a81ae",
   "metadata": {},
   "outputs": [],
   "source": [
    "s2 = {1,2,3,4,5,6}"
   ]
  },
  {
   "cell_type": "code",
   "execution_count": 69,
   "id": "164f3cd7-48de-4580-9ea1-4da6cf326ffa",
   "metadata": {},
   "outputs": [
    {
     "data": {
      "text/plain": [
       "set"
      ]
     },
     "execution_count": 69,
     "metadata": {},
     "output_type": "execute_result"
    }
   ],
   "source": [
    "type(s2)"
   ]
  },
  {
   "cell_type": "code",
   "execution_count": null,
   "id": "ced42773-8e1b-45f2-bfcb-48d6bb3c07d0",
   "metadata": {},
   "outputs": [],
   "source": []
  }
 ],
 "metadata": {
  "kernelspec": {
   "display_name": "Python 3 (ipykernel)",
   "language": "python",
   "name": "python3"
  },
  "language_info": {
   "codemirror_mode": {
    "name": "ipython",
    "version": 3
   },
   "file_extension": ".py",
   "mimetype": "text/x-python",
   "name": "python",
   "nbconvert_exporter": "python",
   "pygments_lexer": "ipython3",
   "version": "3.10.8"
  }
 },
 "nbformat": 4,
 "nbformat_minor": 5
}

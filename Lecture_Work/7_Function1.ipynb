{
 "cells": [
  {
   "cell_type": "code",
   "execution_count": 1,
   "id": "f6bf33a8-eaee-4ea5-a42e-000b5136bce7",
   "metadata": {},
   "outputs": [
    {
     "name": "stdout",
     "output_type": "stream",
     "text": [
      "This is my print\n"
     ]
    }
   ],
   "source": [
    "print(\"This is my print\")"
   ]
  },
  {
   "cell_type": "code",
   "execution_count": 2,
   "id": "94c92d7e-0ba1-448a-9771-e214af3dd13b",
   "metadata": {},
   "outputs": [],
   "source": [
    "l= [33,4,5,6,7]"
   ]
  },
  {
   "cell_type": "code",
   "execution_count": 3,
   "id": "52133cf6-8af2-4756-a78c-5852b91ff46f",
   "metadata": {},
   "outputs": [
    {
     "data": {
      "text/plain": [
       "5"
      ]
     },
     "execution_count": 3,
     "metadata": {},
     "output_type": "execute_result"
    }
   ],
   "source": [
    "len(l)"
   ]
  },
  {
   "cell_type": "code",
   "execution_count": 4,
   "id": "1ebbb40f-6282-498a-ba48-eebb65b873c6",
   "metadata": {},
   "outputs": [
    {
     "data": {
      "text/plain": [
       "list"
      ]
     },
     "execution_count": 4,
     "metadata": {},
     "output_type": "execute_result"
    }
   ],
   "source": [
    "type(l)\n"
   ]
  },
  {
   "cell_type": "code",
   "execution_count": 5,
   "id": "e1ae8ecc-c188-4ba0-9b89-755ec34350ba",
   "metadata": {},
   "outputs": [],
   "source": [
    "def test ():\n",
    "    pass\n"
   ]
  },
  {
   "cell_type": "code",
   "execution_count": 6,
   "id": "9e106d8f-62e2-4dfd-8f9b-136af84a8cc8",
   "metadata": {},
   "outputs": [],
   "source": [
    "def test1():\n",
    "    print(\"This is my 1st function\")"
   ]
  },
  {
   "cell_type": "code",
   "execution_count": 8,
   "id": "09d8df8d-7dca-49b9-820e-60131989a1d2",
   "metadata": {},
   "outputs": [
    {
     "name": "stdout",
     "output_type": "stream",
     "text": [
      "This is my 1st function\n"
     ]
    }
   ],
   "source": [
    "test1()"
   ]
  },
  {
   "cell_type": "code",
   "execution_count": 9,
   "id": "f104aff1-23da-441a-9af5-70f82b4bb42f",
   "metadata": {},
   "outputs": [
    {
     "name": "stdout",
     "output_type": "stream",
     "text": [
      "This is my 1st function\n"
     ]
    },
    {
     "ename": "TypeError",
     "evalue": "unsupported operand type(s) for +: 'NoneType' and 'str'",
     "output_type": "error",
     "traceback": [
      "\u001b[0;31m---------------------------------------------------------------------------\u001b[0m",
      "\u001b[0;31mTypeError\u001b[0m                                 Traceback (most recent call last)",
      "Cell \u001b[0;32mIn[9], line 1\u001b[0m\n\u001b[0;32m----> 1\u001b[0m \u001b[43mtest1\u001b[49m\u001b[43m(\u001b[49m\u001b[43m)\u001b[49m\u001b[43m \u001b[49m\u001b[38;5;241;43m+\u001b[39;49m\u001b[43m \u001b[49m\u001b[38;5;124;43m\"\u001b[39;49m\u001b[38;5;124;43mTahseen\u001b[39;49m\u001b[38;5;124;43m\"\u001b[39;49m\n",
      "\u001b[0;31mTypeError\u001b[0m: unsupported operand type(s) for +: 'NoneType' and 'str'"
     ]
    }
   ],
   "source": [
    "test1() + \"Tahseen\""
   ]
  },
  {
   "cell_type": "code",
   "execution_count": 10,
   "id": "4d4eed83-685f-4141-85ab-0cabb1935a4d",
   "metadata": {},
   "outputs": [],
   "source": [
    "def test2():\n",
    "    return\"This is my 1st Return\""
   ]
  },
  {
   "cell_type": "code",
   "execution_count": 11,
   "id": "13330dc1-6f73-486a-932f-d8d661095e87",
   "metadata": {},
   "outputs": [
    {
     "data": {
      "text/plain": [
       "'This is my 1st Return'"
      ]
     },
     "execution_count": 11,
     "metadata": {},
     "output_type": "execute_result"
    }
   ],
   "source": [
    "test2()"
   ]
  },
  {
   "cell_type": "code",
   "execution_count": 14,
   "id": "a8b65770-066c-40ea-8fcc-f1c7cf1bb837",
   "metadata": {},
   "outputs": [
    {
     "data": {
      "text/plain": [
       "'This is my 1st Return Tah'"
      ]
     },
     "execution_count": 14,
     "metadata": {},
     "output_type": "execute_result"
    }
   ],
   "source": [
    "test2() +  \" Tah\""
   ]
  },
  {
   "cell_type": "code",
   "execution_count": 16,
   "id": "28bf1219-6d72-4f5b-aa5c-a8e8dd8f0711",
   "metadata": {},
   "outputs": [],
   "source": [
    "def test3() :\n",
    "    return \" Tahseen\",23,345.56,[1,2,3,4,5]"
   ]
  },
  {
   "cell_type": "code",
   "execution_count": 17,
   "id": "4e7b67e9-bc3f-45e1-a39d-d89efaabcbbb",
   "metadata": {},
   "outputs": [
    {
     "data": {
      "text/plain": [
       "(' Tahseen', 23, 345.56, [1, 2, 3, 4, 5])"
      ]
     },
     "execution_count": 17,
     "metadata": {},
     "output_type": "execute_result"
    }
   ],
   "source": [
    "test3()"
   ]
  },
  {
   "cell_type": "code",
   "execution_count": 18,
   "id": "0972df35-c89f-4ba1-bb3b-55894a3ffeda",
   "metadata": {},
   "outputs": [],
   "source": [
    "a,b,c,d = test3()"
   ]
  },
  {
   "cell_type": "code",
   "execution_count": 19,
   "id": "b28615ff-4227-426f-b798-d9f050576dea",
   "metadata": {},
   "outputs": [
    {
     "data": {
      "text/plain": [
       "' Tahseen'"
      ]
     },
     "execution_count": 19,
     "metadata": {},
     "output_type": "execute_result"
    }
   ],
   "source": [
    "a\n"
   ]
  },
  {
   "cell_type": "code",
   "execution_count": 20,
   "id": "428ede17-4ae5-49ef-9ad2-4ea72e1a841d",
   "metadata": {},
   "outputs": [
    {
     "data": {
      "text/plain": [
       "23"
      ]
     },
     "execution_count": 20,
     "metadata": {},
     "output_type": "execute_result"
    }
   ],
   "source": [
    "b\n"
   ]
  },
  {
   "cell_type": "code",
   "execution_count": 21,
   "id": "323f3f38-3ed2-469a-b66b-6a6fd230605c",
   "metadata": {},
   "outputs": [
    {
     "data": {
      "text/plain": [
       "345.56"
      ]
     },
     "execution_count": 21,
     "metadata": {},
     "output_type": "execute_result"
    }
   ],
   "source": [
    "c"
   ]
  },
  {
   "cell_type": "code",
   "execution_count": 22,
   "id": "648ab9bb-9351-4040-b292-4452f31f1439",
   "metadata": {},
   "outputs": [
    {
     "data": {
      "text/plain": [
       "[1, 2, 3, 4, 5]"
      ]
     },
     "execution_count": 22,
     "metadata": {},
     "output_type": "execute_result"
    }
   ],
   "source": [
    "d"
   ]
  },
  {
   "cell_type": "code",
   "execution_count": 23,
   "id": "add943e6-7870-4e39-946c-d0a604ac14e7",
   "metadata": {},
   "outputs": [],
   "source": [
    "def test4():\n",
    "    a = 5+6/7\n",
    "    return a"
   ]
  },
  {
   "cell_type": "code",
   "execution_count": 24,
   "id": "0b08312d-20eb-4081-9fc4-79ee29ca70b6",
   "metadata": {},
   "outputs": [
    {
     "data": {
      "text/plain": [
       "5.857142857142857"
      ]
     },
     "execution_count": 24,
     "metadata": {},
     "output_type": "execute_result"
    }
   ],
   "source": [
    "test4()\n"
   ]
  },
  {
   "cell_type": "code",
   "execution_count": 26,
   "id": "8268a356-33b9-47c2-891e-8cc37ef209db",
   "metadata": {},
   "outputs": [],
   "source": [
    "def test5 (a,b,c):\n",
    "    d= a+b/c\n",
    "    return d\n",
    "    "
   ]
  },
  {
   "cell_type": "code",
   "execution_count": 27,
   "id": "eafb29e3-7e2c-4b63-be18-b3e63009fe39",
   "metadata": {},
   "outputs": [
    {
     "ename": "TypeError",
     "evalue": "test5() missing 3 required positional arguments: 'a', 'b', and 'c'",
     "output_type": "error",
     "traceback": [
      "\u001b[0;31m---------------------------------------------------------------------------\u001b[0m",
      "\u001b[0;31mTypeError\u001b[0m                                 Traceback (most recent call last)",
      "Cell \u001b[0;32mIn[27], line 1\u001b[0m\n\u001b[0;32m----> 1\u001b[0m \u001b[43mtest5\u001b[49m\u001b[43m(\u001b[49m\u001b[43m)\u001b[49m\n",
      "\u001b[0;31mTypeError\u001b[0m: test5() missing 3 required positional arguments: 'a', 'b', and 'c'"
     ]
    }
   ],
   "source": [
    "test5()"
   ]
  },
  {
   "cell_type": "code",
   "execution_count": 28,
   "id": "d1521303-ad30-4f98-8aec-80421003ef5e",
   "metadata": {},
   "outputs": [
    {
     "data": {
      "text/plain": [
       "2.8333333333333335"
      ]
     },
     "execution_count": 28,
     "metadata": {},
     "output_type": "execute_result"
    }
   ],
   "source": [
    "test5(2,5,6)"
   ]
  },
  {
   "cell_type": "code",
   "execution_count": 29,
   "id": "49d5c2ff-01a0-4a6d-aca6-4a770f88cd9c",
   "metadata": {},
   "outputs": [],
   "source": [
    "def test6 (a,b):\n",
    "    return a+b"
   ]
  },
  {
   "cell_type": "code",
   "execution_count": 31,
   "id": "7c878014-c594-4873-a336-1f6a4a543c7b",
   "metadata": {},
   "outputs": [
    {
     "data": {
      "text/plain": [
       "13"
      ]
     },
     "execution_count": 31,
     "metadata": {},
     "output_type": "execute_result"
    }
   ],
   "source": [
    "test6(6,7)"
   ]
  },
  {
   "cell_type": "code",
   "execution_count": 33,
   "id": "185ef8cf-57d2-42b6-a492-e235459f7ff1",
   "metadata": {},
   "outputs": [
    {
     "data": {
      "text/plain": [
       "'Tahseen Equbal'"
      ]
     },
     "execution_count": 33,
     "metadata": {},
     "output_type": "execute_result"
    }
   ],
   "source": [
    "test6(\"Tahseen\",\" Equbal\")"
   ]
  },
  {
   "cell_type": "code",
   "execution_count": 34,
   "id": "cd9fb118-0162-472c-82b8-a24344a7abb5",
   "metadata": {},
   "outputs": [
    {
     "data": {
      "text/plain": [
       "[1, 2, 3, 4, 5, 4, 5, 6]"
      ]
     },
     "execution_count": 34,
     "metadata": {},
     "output_type": "execute_result"
    }
   ],
   "source": [
    "test6([1,2,3,4,5] , [4,5,6])"
   ]
  },
  {
   "cell_type": "code",
   "execution_count": 48,
   "id": "0f13c031-0e20-4d73-a2c6-0596456722a4",
   "metadata": {},
   "outputs": [],
   "source": [
    "l = [ 1,2,3,4,'Tahseen' , 'equbal',[1,2,3,4,5,6]]"
   ]
  },
  {
   "cell_type": "code",
   "execution_count": 37,
   "id": "c6cfbec8-221c-4273-9b5f-ac97216680aa",
   "metadata": {},
   "outputs": [],
   "source": [
    "l1 =[]\n",
    "for i in l:\n",
    "    if type (i) == int or type(i) ==float :\n",
    "        l1.append(i)"
   ]
  },
  {
   "cell_type": "code",
   "execution_count": 38,
   "id": "9761f0a7-da65-4a0c-b6ad-c4fe1c52c41b",
   "metadata": {},
   "outputs": [
    {
     "data": {
      "text/plain": [
       "[1, 2, 3, 4]"
      ]
     },
     "execution_count": 38,
     "metadata": {},
     "output_type": "execute_result"
    }
   ],
   "source": [
    "l1\n"
   ]
  },
  {
   "cell_type": "code",
   "execution_count": 52,
   "id": "00594ccb-2e48-4393-a2a5-04fd50095015",
   "metadata": {},
   "outputs": [],
   "source": [
    "def test7(l):\n",
    "    l1 =[]\n",
    "    for i in l:\n",
    "        \n",
    "        if type (i) == int or type(i) ==float :\n",
    "           l1.append(i)\n",
    "    return l1\n",
    "    "
   ]
  },
  {
   "cell_type": "code",
   "execution_count": 49,
   "id": "a9a914ce-487d-4aef-aeda-b8e07d113395",
   "metadata": {},
   "outputs": [
    {
     "data": {
      "text/plain": [
       "[1, 2, 3, 4, 'Tahseen', 'equbal', [1, 2, 3, 4, 5, 6]]"
      ]
     },
     "execution_count": 49,
     "metadata": {},
     "output_type": "execute_result"
    }
   ],
   "source": [
    "l"
   ]
  },
  {
   "cell_type": "code",
   "execution_count": 53,
   "id": "1570438a-0cbd-486b-876a-b06875c27b6c",
   "metadata": {},
   "outputs": [
    {
     "data": {
      "text/plain": [
       "[1, 2, 3, 4]"
      ]
     },
     "execution_count": 53,
     "metadata": {},
     "output_type": "execute_result"
    }
   ],
   "source": [
    "test7(l)"
   ]
  },
  {
   "cell_type": "code",
   "execution_count": 54,
   "id": "7f75d981-c80a-4f66-aa7b-5b2f98696835",
   "metadata": {},
   "outputs": [],
   "source": [
    "def test8(a):\n",
    "    l =[]\n",
    "    for i in a :\n",
    "        if type (i) ==list:\n",
    "            for j in i :\n",
    "                l.append(j)\n",
    "        else:\n",
    "            if type (i) == int or type (i) == float:\n",
    "                l.append(i)\n",
    "    return l"
   ]
  },
  {
   "cell_type": "code",
   "execution_count": 55,
   "id": "9c8d6785-eecb-4ab4-8ce0-61016b0f78de",
   "metadata": {},
   "outputs": [
    {
     "data": {
      "text/plain": [
       "[1, 2, 3, 4, 1, 2, 3, 4, 5, 6]"
      ]
     },
     "execution_count": 55,
     "metadata": {},
     "output_type": "execute_result"
    }
   ],
   "source": [
    "test8(l)"
   ]
  },
  {
   "cell_type": "code",
   "execution_count": null,
   "id": "e7642357-bc2e-4083-b2ec-178c04a6314e",
   "metadata": {},
   "outputs": [],
   "source": [
    "def test9(a):\n",
    "    '''This is my function to extract num data from list'''\n",
    "    l =[]\n",
    "    for i in a :\n",
    "        if type (i) ==list:\n",
    "            for j in i :\n",
    "                l.append(j)\n",
    "        else:\n",
    "            if type (i) == int or type (i) == float:\n",
    "                l.append(i)\n",
    "    return l"
   ]
  },
  {
   "cell_type": "code",
   "execution_count": null,
   "id": "054a01c7-436d-4fc4-9301-e0f3f22336dd",
   "metadata": {},
   "outputs": [],
   "source": [
    "test9()"
   ]
  },
  {
   "cell_type": "code",
   "execution_count": null,
   "id": "bed79404-8987-477f-b0fb-ad014d8c5af3",
   "metadata": {},
   "outputs": [],
   "source": [
    "def test10(a,b):\n",
    "    return a+b"
   ]
  },
  {
   "cell_type": "code",
   "execution_count": null,
   "id": "20e7c5c2-3944-4699-97f6-fb74b5996d4b",
   "metadata": {},
   "outputs": [],
   "source": [
    "def test11(*args):\n",
    "    return args"
   ]
  },
  {
   "cell_type": "code",
   "execution_count": null,
   "id": "dfb98308-4fd3-4cde-9081-f7a0d39f3566",
   "metadata": {},
   "outputs": [],
   "source": []
  }
 ],
 "metadata": {
  "kernelspec": {
   "display_name": "Python 3 (ipykernel)",
   "language": "python",
   "name": "python3"
  },
  "language_info": {
   "codemirror_mode": {
    "name": "ipython",
    "version": 3
   },
   "file_extension": ".py",
   "mimetype": "text/x-python",
   "name": "python",
   "nbconvert_exporter": "python",
   "pygments_lexer": "ipython3",
   "version": "3.10.8"
  }
 },
 "nbformat": 4,
 "nbformat_minor": 5
}

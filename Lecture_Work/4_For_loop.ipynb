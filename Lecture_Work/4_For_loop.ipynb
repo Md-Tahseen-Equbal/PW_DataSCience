{
 "cells": [
  {
   "cell_type": "code",
   "execution_count": 1,
   "id": "6400876f-3b9e-47ac-acef-2e9dbd80d68b",
   "metadata": {},
   "outputs": [],
   "source": [
    "l =[1,2,3,4,5]\n"
   ]
  },
  {
   "cell_type": "code",
   "execution_count": 4,
   "id": "e7937a8a-3e3a-488c-8c61-1aad0503b434",
   "metadata": {},
   "outputs": [
    {
     "name": "stdout",
     "output_type": "stream",
     "text": [
      "1 <class 'int'>\n",
      "2 <class 'int'>\n",
      "3 <class 'int'>\n",
      "4 <class 'int'>\n",
      "5 <class 'int'>\n"
     ]
    }
   ],
   "source": [
    "for i in l :\n",
    "    print(i,type(i))"
   ]
  },
  {
   "cell_type": "code",
   "execution_count": 5,
   "id": "217e6d41-45e2-4bd9-aad8-e272e715bc21",
   "metadata": {},
   "outputs": [],
   "source": [
    "l1 = [\"Tahseen\",\"Equbal\",\"anenque\"]\n"
   ]
  },
  {
   "cell_type": "code",
   "execution_count": 6,
   "id": "a77ca265-8557-4932-9276-796186213b17",
   "metadata": {},
   "outputs": [
    {
     "name": "stdout",
     "output_type": "stream",
     "text": [
      "Tahseen\n",
      "Equbal\n",
      "anenque\n"
     ]
    }
   ],
   "source": [
    "for i in l1:\n",
    "    print(i)\n",
    "    "
   ]
  },
  {
   "cell_type": "code",
   "execution_count": null,
   "id": "8aa98fcd-43b0-4736-b332-a41f2efa9d32",
   "metadata": {},
   "outputs": [],
   "source": [
    "#For Else"
   ]
  },
  {
   "cell_type": "code",
   "execution_count": 8,
   "id": "da4801b0-8691-400d-b215-5ed3d760f918",
   "metadata": {},
   "outputs": [
    {
     "name": "stdout",
     "output_type": "stream",
     "text": [
      "Tahseen\n",
      "Equbal\n",
      "anenque\n",
      "Do Something_If for loop is able to complete itself then only else will execute\n"
     ]
    }
   ],
   "source": [
    "for i in l1:\n",
    "    print(i)\n",
    "else:\n",
    "    print(\"Do Something_If for loop is able to complete itself then only else will execute\")"
   ]
  },
  {
   "cell_type": "code",
   "execution_count": 9,
   "id": "84349f4d-811d-463e-b992-fee502370706",
   "metadata": {},
   "outputs": [
    {
     "name": "stdout",
     "output_type": "stream",
     "text": [
      "Tahseen\n"
     ]
    }
   ],
   "source": [
    "for i in l1 :\n",
    "    if i ==\"Equbal\":\n",
    "        break\n",
    "    print(i)\n"
   ]
  },
  {
   "cell_type": "code",
   "execution_count": 10,
   "id": "d8780cdf-00b7-4aba-a7b3-6c837c3c63e8",
   "metadata": {},
   "outputs": [
    {
     "data": {
      "text/plain": [
       "['Tahseen', 'Equbal', 'anenque']"
      ]
     },
     "execution_count": 10,
     "metadata": {},
     "output_type": "execute_result"
    }
   ],
   "source": [
    "l1"
   ]
  },
  {
   "cell_type": "code",
   "execution_count": 11,
   "id": "46375b9f-42c1-4d8f-8d23-9ddc35edc4b4",
   "metadata": {},
   "outputs": [
    {
     "name": "stdout",
     "output_type": "stream",
     "text": [
      "Tahseen\n"
     ]
    }
   ],
   "source": [
    "for i in l1:\n",
    "    if i ==\"Equbal\":\n",
    "        break\n",
    "    print(i)\n",
    "else:\n",
    "    print(\"execute this if for loop is able to complete itself\")"
   ]
  },
  {
   "cell_type": "code",
   "execution_count": 12,
   "id": "83f206ef-c707-46d9-a28a-ce81dfdf11ab",
   "metadata": {},
   "outputs": [
    {
     "data": {
      "text/plain": [
       "['Tahseen', 'Equbal', 'anenque']"
      ]
     },
     "execution_count": 12,
     "metadata": {},
     "output_type": "execute_result"
    }
   ],
   "source": [
    "l1\n"
   ]
  },
  {
   "cell_type": "code",
   "execution_count": 13,
   "id": "c9c843a2-108a-466c-afdd-0acd2a7dcf37",
   "metadata": {},
   "outputs": [
    {
     "name": "stdout",
     "output_type": "stream",
     "text": [
      "Tahseen\n",
      "anenque\n"
     ]
    }
   ],
   "source": [
    "for i in l1 :\n",
    "    if i == \"Equbal\":\n",
    "        continue\n",
    "    print(i)\n",
    "    "
   ]
  },
  {
   "cell_type": "code",
   "execution_count": 14,
   "id": "319dabc4-b0a6-4ad2-81ff-4b02371b331c",
   "metadata": {},
   "outputs": [
    {
     "name": "stdout",
     "output_type": "stream",
     "text": [
      "Tahseen\n",
      "anenque\n",
      "execute this if for loop is able to complete itself\n"
     ]
    }
   ],
   "source": [
    "for i in l1 :\n",
    "    if i == \"Equbal\":\n",
    "        continue\n",
    "    print(i)\n",
    "else:\n",
    "    print(\"execute this if for loop is able to complete itself\")"
   ]
  },
  {
   "cell_type": "code",
   "execution_count": 15,
   "id": "794637a7-0bdd-46c0-86fb-d16135f0ecf6",
   "metadata": {},
   "outputs": [
    {
     "data": {
      "text/plain": [
       "range(0, 5)"
      ]
     },
     "execution_count": 15,
     "metadata": {},
     "output_type": "execute_result"
    }
   ],
   "source": [
    "range(5)"
   ]
  },
  {
   "cell_type": "code",
   "execution_count": 17,
   "id": "5329640c-06ff-494b-869e-22fe6d299562",
   "metadata": {},
   "outputs": [
    {
     "data": {
      "text/plain": [
       "[0, 1, 2, 3, 4]"
      ]
     },
     "execution_count": 17,
     "metadata": {},
     "output_type": "execute_result"
    }
   ],
   "source": [
    "list(range(5))"
   ]
  },
  {
   "cell_type": "code",
   "execution_count": 19,
   "id": "30ae98b9-dd4b-4fc9-ade0-4ad924d8d8bf",
   "metadata": {},
   "outputs": [
    {
     "data": {
      "text/plain": [
       "[0, 1, 2, 3, 4]"
      ]
     },
     "execution_count": 19,
     "metadata": {},
     "output_type": "execute_result"
    }
   ],
   "source": [
    "list(range(0,5,1))"
   ]
  },
  {
   "cell_type": "code",
   "execution_count": 20,
   "id": "cce23825-56ae-49e6-afe6-ea0731465389",
   "metadata": {},
   "outputs": [
    {
     "data": {
      "text/plain": [
       "[0, 2, 4, 6, 8, 10, 12, 14, 16, 18]"
      ]
     },
     "execution_count": 20,
     "metadata": {},
     "output_type": "execute_result"
    }
   ],
   "source": [
    "list(range(0,20,2))"
   ]
  },
  {
   "cell_type": "code",
   "execution_count": 21,
   "id": "e78e4c2d-3bda-49a2-9ad8-a0c663052631",
   "metadata": {},
   "outputs": [
    {
     "data": {
      "text/plain": [
       "[-10, -9, -8, -7, -6, -5, -4, -3, -2, -1]"
      ]
     },
     "execution_count": 21,
     "metadata": {},
     "output_type": "execute_result"
    }
   ],
   "source": [
    "list(range(-10,0))"
   ]
  },
  {
   "cell_type": "code",
   "execution_count": 22,
   "id": "2e24bb8b-995c-4c29-a852-f32b89dea821",
   "metadata": {},
   "outputs": [
    {
     "data": {
      "text/plain": [
       "['Tahseen', 'Equbal', 'anenque']"
      ]
     },
     "execution_count": 22,
     "metadata": {},
     "output_type": "execute_result"
    }
   ],
   "source": [
    "l1"
   ]
  },
  {
   "cell_type": "code",
   "execution_count": 23,
   "id": "15b60c37-c8ea-48aa-81cf-d939e2379abb",
   "metadata": {},
   "outputs": [
    {
     "data": {
      "text/plain": [
       "[0, 1, 2]"
      ]
     },
     "execution_count": 23,
     "metadata": {},
     "output_type": "execute_result"
    }
   ],
   "source": [
    "list(range(len(l1)))"
   ]
  },
  {
   "cell_type": "code",
   "execution_count": 25,
   "id": "ac5162bc-86ed-48bf-ba3f-3361ff48dea5",
   "metadata": {},
   "outputs": [
    {
     "name": "stdout",
     "output_type": "stream",
     "text": [
      "Tahseen\n",
      "Equbal\n",
      "anenque\n"
     ]
    }
   ],
   "source": [
    "for i in range(len(l1)):\n",
    "               print(l1[i])\n",
    "               "
   ]
  },
  {
   "cell_type": "code",
   "execution_count": 28,
   "id": "91996516-d800-4019-9686-de99e4429fc9",
   "metadata": {},
   "outputs": [
    {
     "data": {
      "text/plain": [
       "[2, 1, 0]"
      ]
     },
     "execution_count": 28,
     "metadata": {},
     "output_type": "execute_result"
    }
   ],
   "source": [
    "list(range(len(l1)-1,-1,-1))"
   ]
  },
  {
   "cell_type": "code",
   "execution_count": 29,
   "id": "a56e782a-1221-4171-969f-067766192e67",
   "metadata": {},
   "outputs": [
    {
     "name": "stdout",
     "output_type": "stream",
     "text": [
      "anenque\n",
      "Equbal\n",
      "Tahseen\n"
     ]
    }
   ],
   "source": [
    "for i in range(len(l1)-1,-1,-1):\n",
    "    print(l1[i])"
   ]
  },
  {
   "cell_type": "code",
   "execution_count": 31,
   "id": "4410bde9-c350-475a-b1c8-9218c824ceb5",
   "metadata": {},
   "outputs": [],
   "source": [
    "l2= [22,44,55,66,77,88,34,56]"
   ]
  },
  {
   "cell_type": "code",
   "execution_count": 32,
   "id": "228e4027-f6f4-44ae-bc26-2fea863f684c",
   "metadata": {},
   "outputs": [
    {
     "data": {
      "text/plain": [
       "[22, 44, 55, 66, 77, 88, 34, 56]"
      ]
     },
     "execution_count": 32,
     "metadata": {},
     "output_type": "execute_result"
    }
   ],
   "source": [
    "l2\n"
   ]
  },
  {
   "cell_type": "code",
   "execution_count": 37,
   "id": "04184d35-de43-4891-b3a0-fa864f12abe1",
   "metadata": {},
   "outputs": [
    {
     "data": {
      "text/plain": [
       "[0, 2, 4, 6]"
      ]
     },
     "execution_count": 37,
     "metadata": {},
     "output_type": "execute_result"
    }
   ],
   "source": [
    "list(range(0,len(l2),2))"
   ]
  },
  {
   "cell_type": "code",
   "execution_count": 38,
   "id": "8afa4c5c-1f4a-47ff-bc70-550ce2f92b56",
   "metadata": {},
   "outputs": [
    {
     "name": "stdout",
     "output_type": "stream",
     "text": [
      "22\n",
      "55\n",
      "77\n",
      "34\n"
     ]
    }
   ],
   "source": [
    "for i in range(0,len(l2),2) :\n",
    "    print(l2[i])"
   ]
  },
  {
   "cell_type": "code",
   "execution_count": 39,
   "id": "4bbab203-124d-481f-ae24-d38c6f2f4dff",
   "metadata": {},
   "outputs": [],
   "source": [
    "l=[1,2,3,4,5,6]"
   ]
  },
  {
   "cell_type": "code",
   "execution_count": 41,
   "id": "1e717093-b024-4357-971f-34e28500b2b6",
   "metadata": {},
   "outputs": [
    {
     "data": {
      "text/plain": [
       "21"
      ]
     },
     "execution_count": 41,
     "metadata": {},
     "output_type": "execute_result"
    }
   ],
   "source": [
    "result=0\n",
    "for i in l :\n",
    "    result = result+i\n",
    "result\n",
    "    "
   ]
  },
  {
   "cell_type": "code",
   "execution_count": 42,
   "id": "96bd2bdb-3685-46e3-87a9-cba4e6de8b1f",
   "metadata": {},
   "outputs": [],
   "source": [
    "t = ( 1,2,3,4,4,5)"
   ]
  },
  {
   "cell_type": "code",
   "execution_count": 43,
   "id": "344ab38d-1fbf-4715-beb5-1e3e99303539",
   "metadata": {},
   "outputs": [
    {
     "name": "stdout",
     "output_type": "stream",
     "text": [
      "1\n",
      "2\n",
      "3\n",
      "4\n",
      "4\n",
      "5\n"
     ]
    }
   ],
   "source": [
    "for i in t:\n",
    "    print(i)"
   ]
  },
  {
   "cell_type": "code",
   "execution_count": 45,
   "id": "a9c60f0c-5125-45dc-830d-e91158ff894f",
   "metadata": {},
   "outputs": [],
   "source": [
    "s1=\"pwskills\""
   ]
  },
  {
   "cell_type": "code",
   "execution_count": 46,
   "id": "de8c4cd0-165b-4485-b474-f6c43e7e8a08",
   "metadata": {},
   "outputs": [
    {
     "name": "stdout",
     "output_type": "stream",
     "text": [
      "p\n",
      "w\n",
      "s\n",
      "k\n",
      "i\n",
      "l\n",
      "l\n",
      "s\n"
     ]
    }
   ],
   "source": [
    "for i in s1:\n",
    "    print(i)"
   ]
  },
  {
   "cell_type": "code",
   "execution_count": 47,
   "id": "50ba686f-b640-4b8a-a31b-07e78812f942",
   "metadata": {},
   "outputs": [],
   "source": [
    "d={\"name\":\"Tahseen\",\"class\":\"Data Science\",\n",
    "   \"topic\":[\"python\",\"Stats\",\"Machine Learning\",\"DL\",\"CV\",\"NLP\",\"Resume\",\"interview\"]}"
   ]
  },
  {
   "cell_type": "code",
   "execution_count": 48,
   "id": "fcb90d11-8128-4ede-ab11-754717cc3c9a",
   "metadata": {},
   "outputs": [
    {
     "data": {
      "text/plain": [
       "{'name': 'Tahseen',\n",
       " 'class': 'Data Science',\n",
       " 'topic': ['python',\n",
       "  'Stats',\n",
       "  'Machine Learning',\n",
       "  'DL',\n",
       "  'CV',\n",
       "  'NLP',\n",
       "  'Resume',\n",
       "  'interview']}"
      ]
     },
     "execution_count": 48,
     "metadata": {},
     "output_type": "execute_result"
    }
   ],
   "source": [
    "d"
   ]
  },
  {
   "cell_type": "code",
   "execution_count": 49,
   "id": "3607bbce-82c8-4568-aeac-5645e50daece",
   "metadata": {},
   "outputs": [
    {
     "data": {
      "text/plain": [
       "'Tahseen'"
      ]
     },
     "execution_count": 49,
     "metadata": {},
     "output_type": "execute_result"
    }
   ],
   "source": [
    "d['name']"
   ]
  },
  {
   "cell_type": "code",
   "execution_count": 50,
   "id": "ad7ebcce-d807-4f91-b39c-3735613d5920",
   "metadata": {},
   "outputs": [
    {
     "data": {
      "text/plain": [
       "dict_keys(['name', 'class', 'topic'])"
      ]
     },
     "execution_count": 50,
     "metadata": {},
     "output_type": "execute_result"
    }
   ],
   "source": [
    "d.keys()"
   ]
  },
  {
   "cell_type": "code",
   "execution_count": 51,
   "id": "f7a51e66-4af1-4400-9ebb-eeeeb7c5c186",
   "metadata": {},
   "outputs": [
    {
     "name": "stdout",
     "output_type": "stream",
     "text": [
      "Tahseen\n",
      "Data Science\n",
      "['python', 'Stats', 'Machine Learning', 'DL', 'CV', 'NLP', 'Resume', 'interview']\n"
     ]
    }
   ],
   "source": [
    "for i in d.keys():\n",
    "    print(d[i])\n"
   ]
  },
  {
   "cell_type": "code",
   "execution_count": 52,
   "id": "5f78158a-537e-409d-bfd6-5b9f7730136b",
   "metadata": {},
   "outputs": [
    {
     "data": {
      "text/plain": [
       "dict_values(['Tahseen', 'Data Science', ['python', 'Stats', 'Machine Learning', 'DL', 'CV', 'NLP', 'Resume', 'interview']])"
      ]
     },
     "execution_count": 52,
     "metadata": {},
     "output_type": "execute_result"
    }
   ],
   "source": [
    "d.values()"
   ]
  },
  {
   "cell_type": "code",
   "execution_count": 53,
   "id": "f22605a4-fc5e-4f44-bbec-5c5d86a760aa",
   "metadata": {},
   "outputs": [
    {
     "name": "stdout",
     "output_type": "stream",
     "text": [
      "Tahseen\n",
      "Data Science\n",
      "['python', 'Stats', 'Machine Learning', 'DL', 'CV', 'NLP', 'Resume', 'interview']\n"
     ]
    }
   ],
   "source": [
    "for i in d.values():\n",
    "    print(i)"
   ]
  },
  {
   "cell_type": "code",
   "execution_count": 54,
   "id": "ccf141f4-072b-4196-a014-10cf7cf1ea61",
   "metadata": {},
   "outputs": [
    {
     "data": {
      "text/plain": [
       "dict_items([('name', 'Tahseen'), ('class', 'Data Science'), ('topic', ['python', 'Stats', 'Machine Learning', 'DL', 'CV', 'NLP', 'Resume', 'interview'])])"
      ]
     },
     "execution_count": 54,
     "metadata": {},
     "output_type": "execute_result"
    }
   ],
   "source": [
    "d.items()\n"
   ]
  },
  {
   "cell_type": "code",
   "execution_count": 55,
   "id": "5cc4166f-740e-4c7d-8e89-66aa21c81c5c",
   "metadata": {},
   "outputs": [
    {
     "name": "stdout",
     "output_type": "stream",
     "text": [
      "('name', 'Tahseen')\n",
      "('class', 'Data Science')\n",
      "('topic', ['python', 'Stats', 'Machine Learning', 'DL', 'CV', 'NLP', 'Resume', 'interview'])\n"
     ]
    }
   ],
   "source": [
    "for i in d.items():\n",
    "    print(i)"
   ]
  },
  {
   "cell_type": "code",
   "execution_count": null,
   "id": "8308b152-012d-49db-8d60-d837b2f5527b",
   "metadata": {},
   "outputs": [],
   "source": []
  }
 ],
 "metadata": {
  "kernelspec": {
   "display_name": "Python 3 (ipykernel)",
   "language": "python",
   "name": "python3"
  },
  "language_info": {
   "codemirror_mode": {
    "name": "ipython",
    "version": 3
   },
   "file_extension": ".py",
   "mimetype": "text/x-python",
   "name": "python",
   "nbconvert_exporter": "python",
   "pygments_lexer": "ipython3",
   "version": "3.10.8"
  }
 },
 "nbformat": 4,
 "nbformat_minor": 5
}
